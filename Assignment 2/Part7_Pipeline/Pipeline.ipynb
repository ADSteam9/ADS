{
 "cells": [
  {
   "cell_type": "code",
   "execution_count": 20,
   "metadata": {},
   "outputs": [],
   "source": [
    "import pandas as pd\n",
    "import numpy as np\n",
    "import operator\n",
    "from math import sqrt\n",
    "from sklearn.model_selection import train_test_split, cross_val_score\n",
    "from sklearn.metrics import mean_squared_error, mean_absolute_error, r2_score\n",
    "from matplotlib import pyplot as plt\n",
    "from sklearn.feature_selection import RFE\n",
    "from sklearn.ensemble import GradientBoostingRegressor  \n",
    "from sklearn import cross_validation, metrics   \n",
    "from sklearn.grid_search import GridSearchCV\n",
    "from sklearn.cross_validation import LeaveOneLabelOut\n",
    "from sklearn.preprocessing import StandardScaler\n",
    "from sklearn.ensemble import RandomForestRegressor\n",
    "from sklearn.linear_model import LinearRegression\n",
    "from sklearn.neural_network import MLPRegressor \n",
    "from sklearn.pipeline import Pipeline\n",
    "from sklearn.preprocessing import MinMaxScaler\n",
    "import datetime"
   ]
  },
  {
   "cell_type": "code",
   "execution_count": 4,
   "metadata": {},
   "outputs": [],
   "source": [
    "energy_data = pd.read_csv('energydata_complete.csv')\n",
    "energy_data['date'] = pd.to_datetime(energy_data.date)\n",
    "energy_data['year'] = energy_data.date.dt.year\n",
    "energy_data['month'] = energy_data.date.dt.month\n",
    "energy_data['day'] = energy_data.date.dt.day\n",
    "energy_data['hours'] = energy_data.date.dt.hour\n",
    "energy_data['minutes'] = energy_data.date.dt.minute\n",
    "energy_data['seconds'] = energy_data.date.dt.second\n",
    "energy_data['week'] = energy_data.date.dt.week\n",
    "energy_data['day_name'] = energy_data.date.dt.weekday_name\n",
    "energy_data['day_of_week'] = energy_data.date.dt.dayofweek\n",
    "energy_data['weekday'] = ((energy_data.date.dt.dayofweek // 5 == 1).astype(int))\n",
    "\n",
    "day_name_encoding = pd.get_dummies(energy_data['day_name'], drop_first=True)\n",
    "data = pd.concat([energy_data,day_name_encoding],axis=1 )"
   ]
  },
  {
   "cell_type": "code",
   "execution_count": 5,
   "metadata": {},
   "outputs": [],
   "source": [
    "X = energy_data[['hours','T1','RH_1','RH_5','RH_6','RH_8','T_out','Windspeed','Visibility','Tdewpoint']]\n",
    "y = energy_data['Appliances']\n",
    "X_train, X_test, y_train, y_test = train_test_split(X, y, test_size=0.25, random_state=42)"
   ]
  },
  {
   "cell_type": "code",
   "execution_count": 10,
   "metadata": {},
   "outputs": [],
   "source": [
    "mertic_info = pd.DataFrame({'r2_train': [], 'r2_test': [], 'rms_train':[], 'rms_test': [],'mae_train': [],'mae_test':[],'mape_train':[],'mape_test':[]})\n",
    "rmse_dict = {} "
   ]
  },
  {
   "cell_type": "code",
   "execution_count": 16,
   "metadata": {},
   "outputs": [],
   "source": [
    "def calc_mertic_info(modelname, model, X_train_scale, y_train, X_test_scale, y_test):\n",
    "    global mertic_info\n",
    "    y_train_predicted = model.predict(X_train)\n",
    "    y_test_predicted = model.predict(X_test)\n",
    "            \n",
    "    r2_train = metrics.r2_score(y_train, y_train_predicted)\n",
    "    r2_test = metrics.r2_score(y_test, y_test_predicted)\n",
    "    \n",
    "    rms_train = np.sqrt(metrics.mean_squared_error(y_train, y_train_predicted))\n",
    "    rms_test = np.sqrt(metrics.mean_squared_error(y_test, y_test_predicted))\n",
    "        \n",
    "    mae_train = metrics.mean_absolute_error(y_train, y_train_predicted)\n",
    "    mae_test = metrics.mean_absolute_error(y_test, y_test_predicted)\n",
    "        \n",
    "    mape_train = np.mean(np.abs((y_train - y_train_predicted) / y_train)) * 100\n",
    "    mape_test = np.mean(np.abs((y_test - y_test_predicted) / y_test)) * 100\n",
    "        \n",
    "    rmse_dict[modelname] = rms_test\n",
    "        \n",
    "    df_local = pd.DataFrame({'Model':[modelname],\n",
    "                            'r2_train': [r2_train],\n",
    "                            'r2_test': [r2_test],\n",
    "                            'rms_train':[rms_train], \n",
    "                            'rms_test': [rms_test],\n",
    "                            'mae_train': [mae_train],\n",
    "                            'mae_test': [mae_test],\n",
    "                            'mape_train':[mape_train],\n",
    "                            'mape_test':[mape_test]})\n",
    "        \n",
    "    mertic_info = pd.concat([mertic_info, df_local])\n",
    "    return mertic_info"
   ]
  },
  {
   "cell_type": "markdown",
   "metadata": {},
   "source": [
    "### Adding estimator1: StandardScaler & LinearRegression"
   ]
  },
  {
   "cell_type": "code",
   "execution_count": 18,
   "metadata": {},
   "outputs": [
    {
     "name": "stdout",
     "output_type": "stream",
     "text": [
      "LinearRegression completed\n"
     ]
    }
   ],
   "source": [
    "pipe_lr = Pipeline([('scl', StandardScaler()),('clf', LinearRegression(normalize=True))])\n",
    "grid_params_lr =[{}]\n",
    "gs_lr = GridSearchCV(estimator=pipe_lr, param_grid=grid_params_lr, cv=10) \n",
    "gs_lr.fit(X_train, y_train)\n",
    "calc_mertic_info('Regression', gs_lr, X_train, y_train, X_test, y_test)\n",
    "print('LinearRegression completed')"
   ]
  },
  {
   "cell_type": "markdown",
   "metadata": {},
   "source": [
    "### Adding estimator2: StandardScaler & RandomForestRegression"
   ]
  },
  {
   "cell_type": "code",
   "execution_count": 22,
   "metadata": {},
   "outputs": [
    {
     "name": "stdout",
     "output_type": "stream",
     "text": [
      "RandomForest completed\n"
     ]
    }
   ],
   "source": [
    "pipe_rf = Pipeline([('scl', StandardScaler()),('rf', RandomForestRegressor(n_estimators=115,max_features=6,random_state=42))])\n",
    "grid_params_rf = [{}]\n",
    "gs_rf = GridSearchCV(estimator=pipe_rf, param_grid=grid_params_rf, cv=10)\n",
    "gs_rf.fit(X_train, y_train)\n",
    "calc_mertic_info('RandomForest', gs_rf, X_train, y_train, X_test, y_test)\n",
    "print('RandomForest completed')"
   ]
  },
  {
   "cell_type": "markdown",
   "metadata": {},
   "source": [
    "### Adding estimator3: Neural Network Regression"
   ]
  },
  {
   "cell_type": "code",
   "execution_count": 23,
   "metadata": {},
   "outputs": [
    {
     "name": "stderr",
     "output_type": "stream",
     "text": [
      "/Applications/anaconda3/lib/python3.6/site-packages/sklearn/neural_network/multilayer_perceptron.py:564: ConvergenceWarning: Stochastic Optimizer: Maximum iterations (200) reached and the optimization hasn't converged yet.\n",
      "  % self.max_iter, ConvergenceWarning)\n",
      "/Applications/anaconda3/lib/python3.6/site-packages/sklearn/neural_network/multilayer_perceptron.py:564: ConvergenceWarning: Stochastic Optimizer: Maximum iterations (200) reached and the optimization hasn't converged yet.\n",
      "  % self.max_iter, ConvergenceWarning)\n",
      "/Applications/anaconda3/lib/python3.6/site-packages/sklearn/neural_network/multilayer_perceptron.py:564: ConvergenceWarning: Stochastic Optimizer: Maximum iterations (200) reached and the optimization hasn't converged yet.\n",
      "  % self.max_iter, ConvergenceWarning)\n",
      "/Applications/anaconda3/lib/python3.6/site-packages/sklearn/neural_network/multilayer_perceptron.py:564: ConvergenceWarning: Stochastic Optimizer: Maximum iterations (200) reached and the optimization hasn't converged yet.\n",
      "  % self.max_iter, ConvergenceWarning)\n",
      "/Applications/anaconda3/lib/python3.6/site-packages/sklearn/neural_network/multilayer_perceptron.py:564: ConvergenceWarning: Stochastic Optimizer: Maximum iterations (200) reached and the optimization hasn't converged yet.\n",
      "  % self.max_iter, ConvergenceWarning)\n",
      "/Applications/anaconda3/lib/python3.6/site-packages/sklearn/neural_network/multilayer_perceptron.py:564: ConvergenceWarning: Stochastic Optimizer: Maximum iterations (200) reached and the optimization hasn't converged yet.\n",
      "  % self.max_iter, ConvergenceWarning)\n",
      "/Applications/anaconda3/lib/python3.6/site-packages/sklearn/neural_network/multilayer_perceptron.py:564: ConvergenceWarning: Stochastic Optimizer: Maximum iterations (200) reached and the optimization hasn't converged yet.\n",
      "  % self.max_iter, ConvergenceWarning)\n",
      "/Applications/anaconda3/lib/python3.6/site-packages/sklearn/neural_network/multilayer_perceptron.py:564: ConvergenceWarning: Stochastic Optimizer: Maximum iterations (200) reached and the optimization hasn't converged yet.\n",
      "  % self.max_iter, ConvergenceWarning)\n",
      "/Applications/anaconda3/lib/python3.6/site-packages/sklearn/neural_network/multilayer_perceptron.py:564: ConvergenceWarning: Stochastic Optimizer: Maximum iterations (200) reached and the optimization hasn't converged yet.\n",
      "  % self.max_iter, ConvergenceWarning)\n",
      "/Applications/anaconda3/lib/python3.6/site-packages/sklearn/neural_network/multilayer_perceptron.py:564: ConvergenceWarning: Stochastic Optimizer: Maximum iterations (200) reached and the optimization hasn't converged yet.\n",
      "  % self.max_iter, ConvergenceWarning)\n"
     ]
    },
    {
     "name": "stdout",
     "output_type": "stream",
     "text": [
      "Neural Network completed\n"
     ]
    },
    {
     "name": "stderr",
     "output_type": "stream",
     "text": [
      "/Applications/anaconda3/lib/python3.6/site-packages/sklearn/neural_network/multilayer_perceptron.py:564: ConvergenceWarning: Stochastic Optimizer: Maximum iterations (200) reached and the optimization hasn't converged yet.\n",
      "  % self.max_iter, ConvergenceWarning)\n"
     ]
    }
   ],
   "source": [
    "pipe_nn = Pipeline([('min/max scaler', MinMaxScaler(feature_range=(0.0, 1.0))),\n",
    "                    ('neural network', MLPRegressor(activation = 'logistic',learning_rate='adaptive',alpha=0.5))])\n",
    "grid_params_nn = [{}]\n",
    "gs_nn = GridSearchCV(estimator=pipe_nn, param_grid=grid_params_nn, cv=10)\n",
    "gs_nn.fit(X_train, y_train)\n",
    "calc_mertic_info('Nueral Network', gs_nn, X_train, y_train, X_test, y_test)\n",
    "print('Neural Network completed')"
   ]
  },
  {
   "cell_type": "markdown",
   "metadata": {},
   "source": [
    "### Exporting Regression metrics "
   ]
  },
  {
   "cell_type": "code",
   "execution_count": 24,
   "metadata": {},
   "outputs": [
    {
     "name": "stdout",
     "output_type": "stream",
     "text": [
      "Model Analysis:  RandomForest\n",
      "METRIC INFO:\n",
      "            Model   mae_test  mae_train  mape_test  mape_train   r2_test  \\\n",
      "0      Regression  55.335889  55.651561  67.366540   65.439100  0.082277   \n",
      "0      Regression  55.335889  55.651561  67.366540   65.439100  0.082277   \n",
      "0    RandomForest  30.922860  11.991840  30.980940   11.864655  0.580944   \n",
      "0  Nueral Network  55.317005  56.092054  67.682968   66.345399  0.077118   \n",
      "\n",
      "   r2_train   rms_test  rms_train  \n",
      "0  0.089554  95.480525  98.713194  \n",
      "0  0.089554  95.480525  98.713194  \n",
      "0  0.940003  64.520113  25.340324  \n",
      "0  0.075978  95.748517  99.446455  \n"
     ]
    }
   ],
   "source": [
    "optimum_model =  min(rmse_dict.items(),key=operator.itemgetter(1))[0]\n",
    "print('Model Analysis: ', optimum_model)\n",
    "\n",
    "print('METRIC INFO:')\n",
    "print(mertic_info)\n",
    "\n",
    "mertic_info.to_csv('Metric_Info.csv')"
   ]
  },
  {
   "cell_type": "code",
   "execution_count": null,
   "metadata": {},
   "outputs": [],
   "source": []
  }
 ],
 "metadata": {
  "kernelspec": {
   "display_name": "Python 3",
   "language": "python",
   "name": "python3"
  },
  "language_info": {
   "codemirror_mode": {
    "name": "ipython",
    "version": 3
   },
   "file_extension": ".py",
   "mimetype": "text/x-python",
   "name": "python",
   "nbconvert_exporter": "python",
   "pygments_lexer": "ipython3",
   "version": "3.6.4"
  }
 },
 "nbformat": 4,
 "nbformat_minor": 2
}
