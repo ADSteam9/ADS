{
 "cells": [
  {
   "cell_type": "markdown",
   "metadata": {},
   "source": [
    "# Data driven prediction models of energy use of appliances in a low-energy house"
   ]
  },
  {
   "cell_type": "markdown",
   "metadata": {},
   "source": [
    "This jupyter notebook is based on the paper: [Data driven prediction models of energy use of appliances in a low-energy house](https://www.sciencedirect.com/science/article/pii/S0378778816308970?via%3Dihub)"
   ]
  },
  {
   "cell_type": "markdown",
   "metadata": {},
   "source": [
    "This paper presents and discusses data driven prediction model for energy use of appliances. Data used include measurements of temperature and humidity sensors from a wireless network, weather from a nearby airport station and recorded energy use of lighting fixtures. Four statistical models with repeated cross validation and evaluation of the testing set are used are listed below :\n",
    "\n",
    "- Multiple linear regression\n",
    "- Support vector machine using radical kernel\n",
    "- Random forest\n",
    "- Gradient boosting machines\n",
    "\n",
    "The paper states that the best model <font color=blue>Gradient boosting machines(GBM)</font> has about <font color=blue>97% variance</font> with about <font color=blue>57% data in testing set.</font> It states that using the weather data, atmospheric pressure was considered to have high relevance of all the weather data varaibles in the prediction. Hence, atmospheric pressure is one of the most important variable for energy prediction model and performance variable."
   ]
  },
  {
   "cell_type": "markdown",
   "metadata": {},
   "source": [
    "## 1. Introduction\n",
    "Appliances represent a significant portion (between 20 and 30%) of the electrical energy demand in buildings. Regression models for energy use can be used to understand the relationships between different variables and to quantify their impact. Prediction models of electrical energy consumption in buildings can be useful for a number of applications such as: \n",
    "\n",
    "- To determine adequate sizing of photovoltaics and energy storage to diminish power flow into the grid\n",
    "- To detect abnormal energy use patterns \n",
    "- To be part of an energy management system for load control \n",
    "- To model predictive control applications where the loads are needed\n",
    "- For demand side management (DSM) and demand side response (DSR) \n",
    "- As an input for building performance simulation analysis"
   ]
  },
  {
   "cell_type": "markdown",
   "metadata": {},
   "source": [
    "The domestic appliances use by the occupants would leave traceable signals in the indoor environment near the vicinity of the appliance, for example: the temperature, humidity, vibrations, light and noise. The occupancy level of the building in different locations could also help to determine the use of the appliances. "
   ]
  },
  {
   "cell_type": "markdown",
   "metadata": {},
   "source": [
    "### 1.1 Appliances’ loads in buildings and numerical modeling of their consumption\n",
    "A recent study focused on major household appliances (refrigerator, clothes washer, clothes dryer and dishwasher) to find daily energy use profiles for each of them [9]. It was shown that refrigerators have a uniform load profile, while clothes washers, clothes dryers and dishwashers are very user-dependent and thus vary from household to household and time of day. The article ranked highest the clothes dryers for the potential of demand response mostly because of their large power demand.\n",
    "Several appliances and parameters as having a significant positive effect on domestic electricity consumption: number of appliances, desktop and laptop computers, TV, video player/recorder, video console, electric oven, range hood, refrigerators, freezers, dishwasher, washing machine and tumble dryer among others.\n",
    "\n",
    "<img src=\"img7.JPG\">\n",
    "\n",
    "<img src=\"img8.JPG\">\n",
    "\n",
    "### 1.2  Electricity load prediction\n",
    "- The energy consumption of appliances represents a significant portion of the aggregated electricity demand of the residential sector (up to 30%), and is also important for power management of the grid.\n",
    "- The increased number of appliances owned makes it important to identify which ones are the main contributors to the energy consumption.\n",
    "- The energy consumption of appliances may be broken down into different contributions and sometimes may include HVAC devices such as air conditioners.\n",
    "- The patterns for energy use of appliances can vary significantly (e.g., nearly flat for refrigeration equipment, while it is highly variable for devices such as clothes washers, clothes dryers and dishwashers).\n",
    "- Weather parameters have been proven relevant to predict the electricity energy consumption in buildings. This consumption typically includes the HVAC contributions, which may have different trends with respect to temperature for example. Thus, it would be desirable to know if exterior weather parameters can also help in the prediction of appliances energy use.\n",
    "- For highly insulated buildings, the thermal influence of appliances on internal gains become more important and relevant in building energy performance."
   ]
  },
  {
   "cell_type": "markdown",
   "metadata": {},
   "source": [
    "## 2. House Description:\n",
    "The house is located in Stambruges, which is about 24 km from the City of Mons in Belgium. The construction was finished on December 2015, mechanical systems were new, low energy house was designed according to the passive house certification. The building was designed to have an annual heating load and cooling load of no more than 15 kWh/m2 per year according to the Passive House Planning Package (PHPP) software design tool. A wood chimney was provided for most of the heating load in the house. The total kg amount and type of wood has been manually logged monthly. The building air leakage was measured in September 2016 and was 0.6 air changes per hour at 50 Pa. The house was designed with U < 0.1 W/m2 K for the exterior walls, roof and ground. Triple glazed windows are used with Ug = 0.5 W/m2 K and Uf < 0.9 W/m2 K. The ventilation was provided by a heat recovery ventilation unit with between 90 and 95% efficiency. The total floor area is 280 m2, from which the total heated area is 220 m2. The façade of the house is oriented +10° (Southwest) from due South. There are usually four occupants of the house, two adults and two teenagers. One of the adults works regularly in the home office.\n",
    "\n",
    "### 2.1 Energy meters and ZigBee nodes\n",
    "The electric energy metering is measured using M-BUS energy counters. The data is recorded in evrey 10 mins. The energy information is collected with an internet connected monitoring system and mailed in every 12 hr. \n",
    "\n",
    "<img src=\"img9.JPG\">\n",
    "\n",
    "From the data we can understand that the maximum energy consumption is by appliances and it accounts for about 70-79%. The house temperature and humidity conditions were monitored with a ZigBee wireless sensor network. The study found that the appliances and lights consume between 5.7 and 6.7 more than the DHW energy use. There are two XBee radio which acts as a router for effective communication since the house is too large. "
   ]
  },
  {
   "cell_type": "markdown",
   "metadata": {},
   "source": [
    "## 3. Recorded data and description\n",
    "The energy (Wh) data logged every 10 min for the appliances is the focus of this analysis. The 10 min reporting interval was chosen to be able to capture quick changes in energy consumption. The time span of the data set is 137 days (4.5 months).\n",
    "\n",
    "<img src=\"img10.JPG\">\n",
    "\n",
    "\n",
    "### 3.1 Data set and exploratory data\n",
    "The combined data set is split in training and test validation using CARET'S create data partition function. 75% of the data is used for the training of the models and the rest is used for testing.\n",
    "Exploratory data analysis is performed to get valuable insights form the data. Many plots are plotted to understand the relationship between all variables with respect to energy consumption by appliances.\n",
    "- A bi-variate scatter plot is used to understand correlation between different variables.\n",
    "- Highest correlation is obtained between appliances and lights(0.19) followed by appliances and T2(0.12). \n",
    "- High correlation between indoor temperature (T1 and T3) is found, i.e., about 0.89.\n",
    "- Most of the correlation between temperature variables like T1,T3,T5,T7,T9 are seen to be positive. \n",
    "- Negative correlation with respect to the appliances is found by T_out(-0.15) and pressure(-0.03).\n",
    "- Heatmao is also used to show hourly consumption over a period of four consecutive weeks.\n",
    "\n",
    "\n",
    "### 3.2 Data features filtering and importance\n",
    "\n",
    "#### Boruta package:\n",
    "The dataset contains about 30 variables out of which only few are of high importance. Hence we have to do feature selection in order to apply it to our machine learning models.variable selection helps in model interpretability and reduces complexity of the model.Bortua is a good package available in R which is used specifically for feature selection.In order to test Boruta alogrithm, two random variables (rv1 and rv2) were introduced.The Boruta package compares importance of attributes with importance of shadow attributes that are created by shuffling original ones. The Boruta algorithm is capable to detect the two random variables and were shown to be between Boruta created shdow attributes of shadow min, shadow max and shadow median.The Boruta package detects NSM to be the most important while Week status to be the least important.\n",
    "\n",
    "#### Recursive feature elimination:\n",
    "We also use RFE(Recursive feature elimination) for selecting variables on the basis of RMSE values.We use Classification and Regression Training package(CARET) which has a RFE algorithm to select features. In order to use this algorithm we have to create dummy variables for NSM and Week Status features using r dummies package. RFE uses Random forest regressor and has 10 cross validation sets. Hence, the aim of any regression model(Linear, SVM, Random forest, GBM) is to minimize the RMSE value.\n",
    "The below image lists the feature ranking from the RFE.\n",
    "\n",
    "<img src=\"img11.JPG\">\n",
    "\n",
    "### 3.3. The performance of regression models\n",
    "There are 4 regressor models which will be used in this paper:\n",
    "\n",
    "- Linear\n",
    "- SVM\n",
    "- Random Forest\n",
    "- GBM\n",
    "\n",
    "#### Mulitple linear regressor:\n",
    "A multiple linear regression model uses all the variables in order to predict the energy consumption.A residual plot is plotted for linear regressor model in order to understand relation between the appliance energy consumption real values and predicted values.The graph shows it is not normally distribution.\n",
    "\n",
    "#### Support Vector Machine (SVM):\n",
    "SVM with radial-kernel is used for prediction of energy consumption.It has two tuning parameters - sigma and cost variables, besides the predictors. The optimal values for sigma is 0.4 and the cost (12) variables were obtained with a grid search.\n",
    "\n",
    "#### Random forest Regressor(RF):\n",
    "It is a tree based model which is based on output from multiple regression trees. The trees are build with random samples of selected predictors. Hence, the random forest model is build by the decorrelation of trees and improve the prediction. The optimal number of random selected predictors is 18.\n",
    "\n",
    "#### GBM:\n",
    "The GBM models try to improve the prediction by using information from the first trees and also require the selection of optimal parameters for the number of trees (10,900) and maximum tree depth (5).\n"
   ]
  },
  {
   "cell_type": "markdown",
   "metadata": {},
   "source": [
    "All of these regressor models have to be trained with 10 K-fold cross validation in order to get best results. DoParallel package is used for parallel computation.\n",
    "\n",
    "#### Performance metrics:\n",
    "In order to understand different regression models, different performance metrics are used:\n",
    "\n",
    "- RMSE ( Root mean square error)\n",
    "- R2 ( R squared / coefficient of determination)\n",
    "- MAE (Mean absolute error)\n",
    "- MAPE ( Mean absolute percentage error)\n",
    "\n"
   ]
  },
  {
   "cell_type": "markdown",
   "metadata": {},
   "source": [
    "### 3.4  Model Selection:\n",
    "The best models are the ones that provide the lower RMSE and highest R2 values.</font> From the results that we get, we see that the RF and GBM models have very similar performance based on their RMSE and R-squared values and confidence intervals. The SVM radial model also shows a significant reduction of the RMSE compared to the linear regression model.\n",
    "\n",
    "#### 3.4.1. Evaluating the prediction with different data subsets:\n",
    "The GBM model provides the best RMSE and R2. The model was build with different prediction performance and predictor subsets of variables - no light, no weather data, removing temperature and humidity from the wireless sensor network and only use weather and time information. The performance of the GBM model without the light predictors is quite accurate. Testing data accuracy for R2 is about 0.58 for this model. The model with R2 0.58 is without lights and weather data while with weather data and light data it is as much as it is with only weather data i.e. about 0.49.\n",
    "\n",
    "\n",
    "<img src=\"img12.JPG\">"
   ]
  },
  {
   "cell_type": "markdown",
   "metadata": {},
   "source": [
    "### 3.5  Discussion of results:\n",
    "We know that appliances consumes most of the energy consumption i.e. about 70-79%. The appliance profile is highly variating with about most of the consumption to be constant with some high sparks.After doing exploratory data analysis, we found that high correlations exist between:T1 and T2 (0.84), T2 andT3 (0.74), T4 and T5 (0.87), T5 and T6 (0.63), T7 and T8 (0.88), and T8 with T9 (0.86).\n",
    "\n",
    "The humudity varies with no. of occupants in the room. Hence, higher humidity indicates high occupancy.\n",
    "\n",
    "- RH1( kitchen area) has high correlation with appliances (0.06) because of humidity\n",
    "- RH2 (living room) has negative correlation of -0.06 with appliances energy consumption\n",
    "- RH3(laundry room) has correlation with appliances (0.04)\n",
    "- RH4 (downstairs office) and RH5 (upstairs bathroom) have small positive correlation of 0.02 and 0.01 respectively\n",
    "- RH7(−0.06)\n",
    "- RH8 (-0.09)\n",
    "- RH9 (−0.05)\n",
    "\n",
    "The rooms have lower energy consumption because of less human activity most of the day.\n",
    "\n",
    "- Atmospheric Pressure(-0.03)\n",
    "- Atmospheric pressure and wind speed has negative correlation(-0.23)\n",
    "\n",
    "Fair weather usually corresponds with high atmospheric pressure and pressure drop trends or low pressure may correspond to foul or rainy weather.\n",
    "\n",
    "The data filtering is relevant because it helps to reduce no.of features and predictors based on accuracy. The Boruta algorithm was able to pick up the inserted two random variables in the data set. This shows that it is efficient to find important features and select it.\n",
    "\n",
    "According to RFE algorithm, there are 6 most important parameters: : NSM, lights, pressure, RH5, T3 and RH3.\n",
    "\n",
    "Coming to model selection,the best models are the RF and GBM according to the RMSE and R2. All the three models predicted NSM to be the most important feature. The second most important feature was lights according to RF and SVM while according to GBM it is atmospheric pressure. Also,the wireless data is highly correlated with the other predictors, it is better to study this data subset separately to have a better appreciation for the different ranks.\n",
    "\n",
    "According to GBM, thetop predictors are NSM, Pressure, RH1, RH2, RH3, RH5, T6, RH6, RH4, RH9, T8, T4 and T2. Hence, we conclude that information from the kitchen, living room, laundry room, bathroom, outdoors, office, and bedrooms are the most important.\n"
   ]
  },
  {
   "cell_type": "markdown",
   "metadata": {},
   "source": [
    "### 3.6  Research limitations:\n",
    "One of the main limitations of this study is that the analysis was done for only one house. Important information could be found when analyzing several houses, and other relationships can be studied with appliances’ energy consumption in combination with: occupant's age, number of occupants, ownership of pets, building's geometry etc. Another research limitation is the length of continuous analyzed data. Different energy use patterns can potentially be found depending on the season of the year. Regarding the weather station, the predictions of appliances energy use could probably be better if the weather station was closer to the house. This research has not looked into the problem of optimal location of the wireless indoor sensors for improvement of the energy prediction. It is also possible that more sensors and better sensor accuracy could help to improve the energy prediction."
   ]
  },
  {
   "cell_type": "markdown",
   "metadata": {},
   "source": [
    "## 4. Conclusion \n",
    "The statistical data analysis has shown thought-provoking results in both the exploratory analysis and in prediction models. The pairwise plots are useful because they shed light on the different relationships between parameters that could be hidden in final predictive models. The GBM and RF models improve the RSME and R2 of predictions compared to the SVM-radial and multiple linear regression lm. For all the models, the time information (NSM) was ranked as the most important to predict the appliances’ consumption.The GBM models with only weather data ranked the pressure as the most important weather variable, followed by the outdoor temperature, dew point temperature, outdoor relative humidity, wind speed and visibility. Data from a wireless sensor network that measures humidity and temperature has been proven to increase the prediction accuracy. The data analysis showed that data from the kitchen, laundry room, living room and bathrooms had the most important contributions. Data from the other rooms also helps in the prediction. The prediction of appliances’ consumption with data from the wireless network indicates that it can help to locate where in a building the main appliances’ energy consumption contributions are found. When using all the predictors the light consumption was ranked highly. Future work could include considering weather data such as solar radiation and precipitation."
   ]
  }
 ],
 "metadata": {
  "kernelspec": {
   "display_name": "Python 3",
   "language": "python",
   "name": "python3"
  },
  "language_info": {
   "codemirror_mode": {
    "name": "ipython",
    "version": 3
   },
   "file_extension": ".py",
   "mimetype": "text/x-python",
   "name": "python",
   "nbconvert_exporter": "python",
   "pygments_lexer": "ipython3",
   "version": "3.6.3"
  }
 },
 "nbformat": 4,
 "nbformat_minor": 2
}
