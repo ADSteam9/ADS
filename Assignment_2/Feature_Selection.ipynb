{
 "cells": [
  {
   "cell_type": "code",
   "execution_count": 33,
   "metadata": {},
   "outputs": [],
   "source": [
    "import pandas as pd\n",
    "import numpy as np"
   ]
  },
  {
   "cell_type": "code",
   "execution_count": 34,
   "metadata": {},
   "outputs": [],
   "source": [
    "import seaborn as sns\n",
    "import matplotlib as mpl\n",
    "import matplotlib.pyplot as plt\n",
    "mpl.rcParams['patch.force_edgecolor'] = True\n",
    "%matplotlib inline\n",
    "%config InlineBackend.figure_format='retina'"
   ]
  },
  {
   "cell_type": "code",
   "execution_count": 35,
   "metadata": {},
   "outputs": [
    {
     "data": {
      "text/html": [
       "<div>\n",
       "<style scoped>\n",
       "    .dataframe tbody tr th:only-of-type {\n",
       "        vertical-align: middle;\n",
       "    }\n",
       "\n",
       "    .dataframe tbody tr th {\n",
       "        vertical-align: top;\n",
       "    }\n",
       "\n",
       "    .dataframe thead th {\n",
       "        text-align: right;\n",
       "    }\n",
       "</style>\n",
       "<table border=\"1\" class=\"dataframe\">\n",
       "  <thead>\n",
       "    <tr style=\"text-align: right;\">\n",
       "      <th></th>\n",
       "      <th>date</th>\n",
       "      <th>Appliances</th>\n",
       "      <th>lights</th>\n",
       "      <th>T1</th>\n",
       "      <th>RH_1</th>\n",
       "      <th>T2</th>\n",
       "      <th>RH_2</th>\n",
       "      <th>T3</th>\n",
       "      <th>RH_3</th>\n",
       "      <th>T4</th>\n",
       "      <th>...</th>\n",
       "      <th>week</th>\n",
       "      <th>day_name</th>\n",
       "      <th>day_of_week</th>\n",
       "      <th>weekday</th>\n",
       "      <th>Monday</th>\n",
       "      <th>Saturday</th>\n",
       "      <th>Sunday</th>\n",
       "      <th>Thursday</th>\n",
       "      <th>Tuesday</th>\n",
       "      <th>Wednesday</th>\n",
       "    </tr>\n",
       "  </thead>\n",
       "  <tbody>\n",
       "    <tr>\n",
       "      <th>0</th>\n",
       "      <td>2016-01-11 17:00:00</td>\n",
       "      <td>60</td>\n",
       "      <td>30</td>\n",
       "      <td>19.89</td>\n",
       "      <td>47.596667</td>\n",
       "      <td>19.2</td>\n",
       "      <td>44.790000</td>\n",
       "      <td>19.79</td>\n",
       "      <td>44.730000</td>\n",
       "      <td>19.000000</td>\n",
       "      <td>...</td>\n",
       "      <td>2</td>\n",
       "      <td>Monday</td>\n",
       "      <td>0</td>\n",
       "      <td>0</td>\n",
       "      <td>1</td>\n",
       "      <td>0</td>\n",
       "      <td>0</td>\n",
       "      <td>0</td>\n",
       "      <td>0</td>\n",
       "      <td>0</td>\n",
       "    </tr>\n",
       "    <tr>\n",
       "      <th>1</th>\n",
       "      <td>2016-01-11 17:10:00</td>\n",
       "      <td>60</td>\n",
       "      <td>30</td>\n",
       "      <td>19.89</td>\n",
       "      <td>46.693333</td>\n",
       "      <td>19.2</td>\n",
       "      <td>44.722500</td>\n",
       "      <td>19.79</td>\n",
       "      <td>44.790000</td>\n",
       "      <td>19.000000</td>\n",
       "      <td>...</td>\n",
       "      <td>2</td>\n",
       "      <td>Monday</td>\n",
       "      <td>0</td>\n",
       "      <td>0</td>\n",
       "      <td>1</td>\n",
       "      <td>0</td>\n",
       "      <td>0</td>\n",
       "      <td>0</td>\n",
       "      <td>0</td>\n",
       "      <td>0</td>\n",
       "    </tr>\n",
       "    <tr>\n",
       "      <th>2</th>\n",
       "      <td>2016-01-11 17:20:00</td>\n",
       "      <td>50</td>\n",
       "      <td>30</td>\n",
       "      <td>19.89</td>\n",
       "      <td>46.300000</td>\n",
       "      <td>19.2</td>\n",
       "      <td>44.626667</td>\n",
       "      <td>19.79</td>\n",
       "      <td>44.933333</td>\n",
       "      <td>18.926667</td>\n",
       "      <td>...</td>\n",
       "      <td>2</td>\n",
       "      <td>Monday</td>\n",
       "      <td>0</td>\n",
       "      <td>0</td>\n",
       "      <td>1</td>\n",
       "      <td>0</td>\n",
       "      <td>0</td>\n",
       "      <td>0</td>\n",
       "      <td>0</td>\n",
       "      <td>0</td>\n",
       "    </tr>\n",
       "    <tr>\n",
       "      <th>3</th>\n",
       "      <td>2016-01-11 17:30:00</td>\n",
       "      <td>50</td>\n",
       "      <td>40</td>\n",
       "      <td>19.89</td>\n",
       "      <td>46.066667</td>\n",
       "      <td>19.2</td>\n",
       "      <td>44.590000</td>\n",
       "      <td>19.79</td>\n",
       "      <td>45.000000</td>\n",
       "      <td>18.890000</td>\n",
       "      <td>...</td>\n",
       "      <td>2</td>\n",
       "      <td>Monday</td>\n",
       "      <td>0</td>\n",
       "      <td>0</td>\n",
       "      <td>1</td>\n",
       "      <td>0</td>\n",
       "      <td>0</td>\n",
       "      <td>0</td>\n",
       "      <td>0</td>\n",
       "      <td>0</td>\n",
       "    </tr>\n",
       "    <tr>\n",
       "      <th>4</th>\n",
       "      <td>2016-01-11 17:40:00</td>\n",
       "      <td>60</td>\n",
       "      <td>40</td>\n",
       "      <td>19.89</td>\n",
       "      <td>46.333333</td>\n",
       "      <td>19.2</td>\n",
       "      <td>44.530000</td>\n",
       "      <td>19.79</td>\n",
       "      <td>45.000000</td>\n",
       "      <td>18.890000</td>\n",
       "      <td>...</td>\n",
       "      <td>2</td>\n",
       "      <td>Monday</td>\n",
       "      <td>0</td>\n",
       "      <td>0</td>\n",
       "      <td>1</td>\n",
       "      <td>0</td>\n",
       "      <td>0</td>\n",
       "      <td>0</td>\n",
       "      <td>0</td>\n",
       "      <td>0</td>\n",
       "    </tr>\n",
       "  </tbody>\n",
       "</table>\n",
       "<p>5 rows × 45 columns</p>\n",
       "</div>"
      ],
      "text/plain": [
       "                  date  Appliances  lights     T1       RH_1    T2       RH_2  \\\n",
       "0  2016-01-11 17:00:00          60      30  19.89  47.596667  19.2  44.790000   \n",
       "1  2016-01-11 17:10:00          60      30  19.89  46.693333  19.2  44.722500   \n",
       "2  2016-01-11 17:20:00          50      30  19.89  46.300000  19.2  44.626667   \n",
       "3  2016-01-11 17:30:00          50      40  19.89  46.066667  19.2  44.590000   \n",
       "4  2016-01-11 17:40:00          60      40  19.89  46.333333  19.2  44.530000   \n",
       "\n",
       "      T3       RH_3         T4    ...      week  day_name  day_of_week  \\\n",
       "0  19.79  44.730000  19.000000    ...         2    Monday            0   \n",
       "1  19.79  44.790000  19.000000    ...         2    Monday            0   \n",
       "2  19.79  44.933333  18.926667    ...         2    Monday            0   \n",
       "3  19.79  45.000000  18.890000    ...         2    Monday            0   \n",
       "4  19.79  45.000000  18.890000    ...         2    Monday            0   \n",
       "\n",
       "   weekday  Monday  Saturday  Sunday  Thursday  Tuesday  Wednesday  \n",
       "0        0       1         0       0         0        0          0  \n",
       "1        0       1         0       0         0        0          0  \n",
       "2        0       1         0       0         0        0          0  \n",
       "3        0       1         0       0         0        0          0  \n",
       "4        0       1         0       0         0        0          0  \n",
       "\n",
       "[5 rows x 45 columns]"
      ]
     },
     "execution_count": 35,
     "metadata": {},
     "output_type": "execute_result"
    }
   ],
   "source": [
    "energy_data = pd.read_csv(\"energydata_complete_revised.csv\")\n",
    "day_name_encoding = pd.get_dummies(energy_data['day_name'], drop_first=True)\n",
    "data = pd.concat([energy_data,day_name_encoding],axis=1 )\n",
    "data.head()"
   ]
  },
  {
   "cell_type": "markdown",
   "metadata": {},
   "source": [
    "# Boruta\n",
    "\n",
    "Boruta is an all relevant feature selection method \n",
    "\n",
    "it tries to find all features carrying information usable for prediction, rather than finding a possibly compact subset of features on which some classifier has a minimal error."
   ]
  },
  {
   "cell_type": "code",
   "execution_count": 36,
   "metadata": {},
   "outputs": [
    {
     "data": {
      "text/plain": [
       "array([ 60,  60,  50, ..., 270, 420, 430], dtype=int64)"
      ]
     },
     "execution_count": 36,
     "metadata": {},
     "output_type": "execute_result"
    }
   ],
   "source": [
    "data_1 = data.drop(['Appliances', 'date', 'day_name'],axis=1)\n",
    "X_boruta = data_1\n",
    "X_boruta = X_boruta.values\n",
    "\n",
    "y_boruta = data['Appliances']\n",
    "y_boruta = y_boruta.values\n",
    "y_boruta"
   ]
  },
  {
   "cell_type": "code",
   "execution_count": 37,
   "metadata": {},
   "outputs": [],
   "source": [
    "from sklearn.ensemble import RandomForestClassifier\n",
    "rf1 = RandomForestClassifier(n_jobs=-1, class_weight='balanced', max_depth=5)"
   ]
  },
  {
   "cell_type": "code",
   "execution_count": 38,
   "metadata": {},
   "outputs": [
    {
     "name": "stdout",
     "output_type": "stream",
     "text": [
      "Iteration: \t1 / 100\n",
      "Confirmed: \t0\n",
      "Tentative: \t42\n",
      "Rejected: \t0\n",
      "Iteration: \t2 / 100\n",
      "Confirmed: \t0\n",
      "Tentative: \t42\n",
      "Rejected: \t0\n",
      "Iteration: \t3 / 100\n",
      "Confirmed: \t0\n",
      "Tentative: \t42\n",
      "Rejected: \t0\n",
      "Iteration: \t4 / 100\n",
      "Confirmed: \t0\n",
      "Tentative: \t42\n",
      "Rejected: \t0\n",
      "Iteration: \t5 / 100\n",
      "Confirmed: \t0\n",
      "Tentative: \t42\n",
      "Rejected: \t0\n",
      "Iteration: \t6 / 100\n",
      "Confirmed: \t0\n",
      "Tentative: \t42\n",
      "Rejected: \t0\n",
      "Iteration: \t7 / 100\n",
      "Confirmed: \t0\n",
      "Tentative: \t42\n",
      "Rejected: \t0\n",
      "Iteration: \t8 / 100\n",
      "Confirmed: \t0\n",
      "Tentative: \t3\n",
      "Rejected: \t39\n",
      "Iteration: \t9 / 100\n",
      "Confirmed: \t0\n",
      "Tentative: \t3\n",
      "Rejected: \t39\n",
      "Iteration: \t10 / 100\n",
      "Confirmed: \t0\n",
      "Tentative: \t3\n",
      "Rejected: \t39\n",
      "Iteration: \t11 / 100\n",
      "Confirmed: \t0\n",
      "Tentative: \t3\n",
      "Rejected: \t39\n",
      "Iteration: \t12 / 100\n",
      "Confirmed: \t0\n",
      "Tentative: \t3\n",
      "Rejected: \t39\n",
      "Iteration: \t13 / 100\n",
      "Confirmed: \t0\n",
      "Tentative: \t3\n",
      "Rejected: \t39\n",
      "Iteration: \t14 / 100\n",
      "Confirmed: \t0\n",
      "Tentative: \t3\n",
      "Rejected: \t39\n",
      "Iteration: \t15 / 100\n",
      "Confirmed: \t0\n",
      "Tentative: \t3\n",
      "Rejected: \t39\n",
      "Iteration: \t16 / 100\n",
      "Confirmed: \t0\n",
      "Tentative: \t2\n",
      "Rejected: \t40\n",
      "Iteration: \t17 / 100\n",
      "Confirmed: \t0\n",
      "Tentative: \t2\n",
      "Rejected: \t40\n",
      "Iteration: \t18 / 100\n",
      "Confirmed: \t0\n",
      "Tentative: \t2\n",
      "Rejected: \t40\n",
      "Iteration: \t19 / 100\n",
      "Confirmed: \t0\n",
      "Tentative: \t2\n",
      "Rejected: \t40\n",
      "Iteration: \t20 / 100\n",
      "Confirmed: \t0\n",
      "Tentative: \t2\n",
      "Rejected: \t40\n",
      "Iteration: \t21 / 100\n",
      "Confirmed: \t0\n",
      "Tentative: \t2\n",
      "Rejected: \t40\n",
      "Iteration: \t22 / 100\n",
      "Confirmed: \t0\n",
      "Tentative: \t2\n",
      "Rejected: \t40\n",
      "Iteration: \t23 / 100\n",
      "Confirmed: \t0\n",
      "Tentative: \t2\n",
      "Rejected: \t40\n",
      "Iteration: \t24 / 100\n",
      "Confirmed: \t0\n",
      "Tentative: \t2\n",
      "Rejected: \t40\n",
      "Iteration: \t25 / 100\n",
      "Confirmed: \t0\n",
      "Tentative: \t2\n",
      "Rejected: \t40\n",
      "Iteration: \t26 / 100\n",
      "Confirmed: \t0\n",
      "Tentative: \t1\n",
      "Rejected: \t41\n",
      "Iteration: \t27 / 100\n",
      "Confirmed: \t0\n",
      "Tentative: \t1\n",
      "Rejected: \t41\n",
      "Iteration: \t28 / 100\n",
      "Confirmed: \t0\n",
      "Tentative: \t1\n",
      "Rejected: \t41\n",
      "Iteration: \t29 / 100\n",
      "Confirmed: \t0\n",
      "Tentative: \t1\n",
      "Rejected: \t41\n",
      "Iteration: \t30 / 100\n",
      "Confirmed: \t0\n",
      "Tentative: \t1\n",
      "Rejected: \t41\n",
      "Iteration: \t31 / 100\n",
      "Confirmed: \t0\n",
      "Tentative: \t1\n",
      "Rejected: \t41\n",
      "Iteration: \t32 / 100\n",
      "Confirmed: \t0\n",
      "Tentative: \t1\n",
      "Rejected: \t41\n",
      "Iteration: \t33 / 100\n",
      "Confirmed: \t0\n",
      "Tentative: \t1\n",
      "Rejected: \t41\n",
      "Iteration: \t34 / 100\n",
      "Confirmed: \t0\n",
      "Tentative: \t1\n",
      "Rejected: \t41\n",
      "Iteration: \t35 / 100\n",
      "Confirmed: \t0\n",
      "Tentative: \t1\n",
      "Rejected: \t41\n",
      "Iteration: \t36 / 100\n",
      "Confirmed: \t0\n",
      "Tentative: \t1\n",
      "Rejected: \t41\n",
      "Iteration: \t37 / 100\n",
      "Confirmed: \t0\n",
      "Tentative: \t1\n",
      "Rejected: \t41\n",
      "Iteration: \t38 / 100\n",
      "Confirmed: \t0\n",
      "Tentative: \t1\n",
      "Rejected: \t41\n",
      "Iteration: \t39 / 100\n",
      "Confirmed: \t0\n",
      "Tentative: \t1\n",
      "Rejected: \t41\n",
      "Iteration: \t40 / 100\n",
      "Confirmed: \t0\n",
      "Tentative: \t1\n",
      "Rejected: \t41\n",
      "Iteration: \t41 / 100\n",
      "Confirmed: \t0\n",
      "Tentative: \t1\n",
      "Rejected: \t41\n",
      "Iteration: \t42 / 100\n",
      "Confirmed: \t0\n",
      "Tentative: \t1\n",
      "Rejected: \t41\n",
      "Iteration: \t43 / 100\n",
      "Confirmed: \t0\n",
      "Tentative: \t1\n",
      "Rejected: \t41\n",
      "Iteration: \t44 / 100\n",
      "Confirmed: \t0\n",
      "Tentative: \t1\n",
      "Rejected: \t41\n",
      "Iteration: \t45 / 100\n",
      "Confirmed: \t0\n",
      "Tentative: \t1\n",
      "Rejected: \t41\n",
      "Iteration: \t46 / 100\n",
      "Confirmed: \t1\n",
      "Tentative: \t0\n",
      "Rejected: \t41\n",
      "\n",
      "\n",
      "BorutaPy finished running.\n",
      "\n",
      "Iteration: \t47 / 100\n",
      "Confirmed: \t1\n",
      "Tentative: \t0\n",
      "Rejected: \t41\n"
     ]
    },
    {
     "data": {
      "text/plain": [
       "BorutaPy(alpha=0.05,\n",
       "     estimator=RandomForestClassifier(bootstrap=True, class_weight='balanced',\n",
       "            criterion='gini', max_depth=5, max_features='auto',\n",
       "            max_leaf_nodes=None, min_impurity_decrease=0.0,\n",
       "            min_impurity_split=None, min_samples_leaf=1,\n",
       "            min_samples_split=2, min_weight_fraction_leaf=0.0,\n",
       "            n_estimators=28, n_jobs=-1, oob_score=False,\n",
       "            random_state=<mtrand.RandomState object at 0x000001F649DEA870>,\n",
       "            verbose=0, warm_start=False),\n",
       "     max_iter=100, n_estimators='auto', perc=100,\n",
       "     random_state=<mtrand.RandomState object at 0x000001F649DEA870>,\n",
       "     two_step=True, verbose=5)"
      ]
     },
     "execution_count": 38,
     "metadata": {},
     "output_type": "execute_result"
    }
   ],
   "source": [
    "from boruta import BorutaPy\n",
    "feat_selector = BorutaPy(rf1, n_estimators='auto', verbose=5, random_state=1)\n",
    "feat_selector.fit(X_boruta,y_boruta)"
   ]
  },
  {
   "cell_type": "code",
   "execution_count": 39,
   "metadata": {},
   "outputs": [
    {
     "name": "stdout",
     "output_type": "stream",
     "text": [
      "[29  8  6 12 18  1 19  9 17 10  2  7 22 15 24 12 26 15 25 10 14 28 23  3\n",
      " 26  4  5 41 35 20 30 31 41 20 34 39 36 32 37 33 39 39]\n"
     ]
    }
   ],
   "source": [
    "feat_selector.support_\n",
    "print(feat_selector.ranking_)"
   ]
  },
  {
   "cell_type": "code",
   "execution_count": 16,
   "metadata": {},
   "outputs": [
    {
     "data": {
      "text/html": [
       "<div>\n",
       "<style scoped>\n",
       "    .dataframe tbody tr th:only-of-type {\n",
       "        vertical-align: middle;\n",
       "    }\n",
       "\n",
       "    .dataframe tbody tr th {\n",
       "        vertical-align: top;\n",
       "    }\n",
       "\n",
       "    .dataframe thead th {\n",
       "        text-align: right;\n",
       "    }\n",
       "</style>\n",
       "<table border=\"1\" class=\"dataframe\">\n",
       "  <thead>\n",
       "    <tr style=\"text-align: right;\">\n",
       "      <th></th>\n",
       "      <th>Index</th>\n",
       "      <th>Ranking</th>\n",
       "    </tr>\n",
       "  </thead>\n",
       "  <tbody>\n",
       "    <tr>\n",
       "      <th>0</th>\n",
       "      <td>lights</td>\n",
       "      <td>29</td>\n",
       "    </tr>\n",
       "    <tr>\n",
       "      <th>1</th>\n",
       "      <td>T1</td>\n",
       "      <td>8</td>\n",
       "    </tr>\n",
       "    <tr>\n",
       "      <th>2</th>\n",
       "      <td>RH_1</td>\n",
       "      <td>6</td>\n",
       "    </tr>\n",
       "    <tr>\n",
       "      <th>3</th>\n",
       "      <td>T2</td>\n",
       "      <td>12</td>\n",
       "    </tr>\n",
       "    <tr>\n",
       "      <th>4</th>\n",
       "      <td>RH_2</td>\n",
       "      <td>18</td>\n",
       "    </tr>\n",
       "    <tr>\n",
       "      <th>5</th>\n",
       "      <td>T3</td>\n",
       "      <td>1</td>\n",
       "    </tr>\n",
       "    <tr>\n",
       "      <th>6</th>\n",
       "      <td>RH_3</td>\n",
       "      <td>19</td>\n",
       "    </tr>\n",
       "    <tr>\n",
       "      <th>7</th>\n",
       "      <td>T4</td>\n",
       "      <td>9</td>\n",
       "    </tr>\n",
       "    <tr>\n",
       "      <th>8</th>\n",
       "      <td>RH_4</td>\n",
       "      <td>17</td>\n",
       "    </tr>\n",
       "    <tr>\n",
       "      <th>9</th>\n",
       "      <td>T5</td>\n",
       "      <td>10</td>\n",
       "    </tr>\n",
       "    <tr>\n",
       "      <th>10</th>\n",
       "      <td>RH_5</td>\n",
       "      <td>2</td>\n",
       "    </tr>\n",
       "    <tr>\n",
       "      <th>11</th>\n",
       "      <td>T6</td>\n",
       "      <td>7</td>\n",
       "    </tr>\n",
       "    <tr>\n",
       "      <th>12</th>\n",
       "      <td>RH_6</td>\n",
       "      <td>22</td>\n",
       "    </tr>\n",
       "    <tr>\n",
       "      <th>13</th>\n",
       "      <td>T7</td>\n",
       "      <td>15</td>\n",
       "    </tr>\n",
       "    <tr>\n",
       "      <th>14</th>\n",
       "      <td>RH_7</td>\n",
       "      <td>24</td>\n",
       "    </tr>\n",
       "    <tr>\n",
       "      <th>15</th>\n",
       "      <td>T8</td>\n",
       "      <td>12</td>\n",
       "    </tr>\n",
       "    <tr>\n",
       "      <th>16</th>\n",
       "      <td>RH_8</td>\n",
       "      <td>26</td>\n",
       "    </tr>\n",
       "    <tr>\n",
       "      <th>17</th>\n",
       "      <td>T9</td>\n",
       "      <td>15</td>\n",
       "    </tr>\n",
       "    <tr>\n",
       "      <th>18</th>\n",
       "      <td>RH_9</td>\n",
       "      <td>25</td>\n",
       "    </tr>\n",
       "    <tr>\n",
       "      <th>19</th>\n",
       "      <td>T_out</td>\n",
       "      <td>10</td>\n",
       "    </tr>\n",
       "    <tr>\n",
       "      <th>20</th>\n",
       "      <td>Press_mm_hg</td>\n",
       "      <td>14</td>\n",
       "    </tr>\n",
       "    <tr>\n",
       "      <th>21</th>\n",
       "      <td>RH_out</td>\n",
       "      <td>28</td>\n",
       "    </tr>\n",
       "    <tr>\n",
       "      <th>22</th>\n",
       "      <td>Windspeed</td>\n",
       "      <td>23</td>\n",
       "    </tr>\n",
       "    <tr>\n",
       "      <th>23</th>\n",
       "      <td>Visibility</td>\n",
       "      <td>3</td>\n",
       "    </tr>\n",
       "    <tr>\n",
       "      <th>24</th>\n",
       "      <td>Tdewpoint</td>\n",
       "      <td>26</td>\n",
       "    </tr>\n",
       "    <tr>\n",
       "      <th>25</th>\n",
       "      <td>rv1</td>\n",
       "      <td>4</td>\n",
       "    </tr>\n",
       "    <tr>\n",
       "      <th>26</th>\n",
       "      <td>rv2</td>\n",
       "      <td>5</td>\n",
       "    </tr>\n",
       "    <tr>\n",
       "      <th>27</th>\n",
       "      <td>year</td>\n",
       "      <td>41</td>\n",
       "    </tr>\n",
       "    <tr>\n",
       "      <th>28</th>\n",
       "      <td>month</td>\n",
       "      <td>35</td>\n",
       "    </tr>\n",
       "    <tr>\n",
       "      <th>29</th>\n",
       "      <td>day</td>\n",
       "      <td>20</td>\n",
       "    </tr>\n",
       "    <tr>\n",
       "      <th>30</th>\n",
       "      <td>hours</td>\n",
       "      <td>30</td>\n",
       "    </tr>\n",
       "    <tr>\n",
       "      <th>31</th>\n",
       "      <td>minutes</td>\n",
       "      <td>31</td>\n",
       "    </tr>\n",
       "    <tr>\n",
       "      <th>32</th>\n",
       "      <td>seconds</td>\n",
       "      <td>41</td>\n",
       "    </tr>\n",
       "    <tr>\n",
       "      <th>33</th>\n",
       "      <td>week</td>\n",
       "      <td>20</td>\n",
       "    </tr>\n",
       "    <tr>\n",
       "      <th>34</th>\n",
       "      <td>day_of_week</td>\n",
       "      <td>34</td>\n",
       "    </tr>\n",
       "    <tr>\n",
       "      <th>35</th>\n",
       "      <td>weekday</td>\n",
       "      <td>39</td>\n",
       "    </tr>\n",
       "    <tr>\n",
       "      <th>36</th>\n",
       "      <td>Monday</td>\n",
       "      <td>36</td>\n",
       "    </tr>\n",
       "    <tr>\n",
       "      <th>37</th>\n",
       "      <td>Saturday</td>\n",
       "      <td>32</td>\n",
       "    </tr>\n",
       "    <tr>\n",
       "      <th>38</th>\n",
       "      <td>Sunday</td>\n",
       "      <td>37</td>\n",
       "    </tr>\n",
       "    <tr>\n",
       "      <th>39</th>\n",
       "      <td>Thursday</td>\n",
       "      <td>33</td>\n",
       "    </tr>\n",
       "    <tr>\n",
       "      <th>40</th>\n",
       "      <td>Tuesday</td>\n",
       "      <td>39</td>\n",
       "    </tr>\n",
       "    <tr>\n",
       "      <th>41</th>\n",
       "      <td>Wednesday</td>\n",
       "      <td>39</td>\n",
       "    </tr>\n",
       "  </tbody>\n",
       "</table>\n",
       "</div>"
      ],
      "text/plain": [
       "          Index  Ranking\n",
       "0        lights       29\n",
       "1            T1        8\n",
       "2          RH_1        6\n",
       "3            T2       12\n",
       "4          RH_2       18\n",
       "5            T3        1\n",
       "6          RH_3       19\n",
       "7            T4        9\n",
       "8          RH_4       17\n",
       "9            T5       10\n",
       "10         RH_5        2\n",
       "11           T6        7\n",
       "12         RH_6       22\n",
       "13           T7       15\n",
       "14         RH_7       24\n",
       "15           T8       12\n",
       "16         RH_8       26\n",
       "17           T9       15\n",
       "18         RH_9       25\n",
       "19        T_out       10\n",
       "20  Press_mm_hg       14\n",
       "21       RH_out       28\n",
       "22    Windspeed       23\n",
       "23   Visibility        3\n",
       "24    Tdewpoint       26\n",
       "25          rv1        4\n",
       "26          rv2        5\n",
       "27         year       41\n",
       "28        month       35\n",
       "29          day       20\n",
       "30        hours       30\n",
       "31      minutes       31\n",
       "32      seconds       41\n",
       "33         week       20\n",
       "34  day_of_week       34\n",
       "35      weekday       39\n",
       "36       Monday       36\n",
       "37     Saturday       32\n",
       "38       Sunday       37\n",
       "39     Thursday       33\n",
       "40      Tuesday       39\n",
       "41    Wednesday       39"
      ]
     },
     "execution_count": 16,
     "metadata": {},
     "output_type": "execute_result"
    }
   ],
   "source": [
    "ranking = pd.DataFrame({'Index':data_1.columns, 'Ranking': feat_selector.ranking_})\n",
    "ranking"
   ]
  },
  {
   "cell_type": "markdown",
   "metadata": {},
   "source": [
    "# TPOT\n",
    "\n",
    "TPOT is a Python Automated Machine Learning tool that optimizes machine learning pipelines using genetic programming."
   ]
  },
  {
   "cell_type": "code",
   "execution_count": 48,
   "metadata": {},
   "outputs": [],
   "source": [
    "X = data.drop(['Appliances', 'date', 'day_name'],axis=1)\n",
    "y = data['Appliances']"
   ]
  },
  {
   "cell_type": "code",
   "execution_count": 50,
   "metadata": {},
   "outputs": [],
   "source": [
    "from sklearn.model_selection import train_test_split\n",
    "X_train, X_test, y_train, y_test = train_test_split(X, y, test_size=0.25, random_state=42)"
   ]
  },
  {
   "cell_type": "code",
   "execution_count": 52,
   "metadata": {},
   "outputs": [
    {
     "name": "stdout",
     "output_type": "stream",
     "text": [
      "Warning: xgboost.XGBRegressor is not available and will not be used by TPOT.\n",
      "28 operators have been imported by TPOT.\n"
     ]
    },
    {
     "name": "stderr",
     "output_type": "stream",
     "text": [
      "Optimization Progress:  18%|█▊        | 20/110 [02:21<09:04,  6.05s/pipeline]"
     ]
    },
    {
     "name": "stdout",
     "output_type": "stream",
     "text": [
      "Generation 1 - Current Pareto front scores:\n",
      "-1\t-6160.052847414862\tRandomForestRegressor(input_matrix, RandomForestRegressor__bootstrap=False, RandomForestRegressor__max_features=0.25, RandomForestRegressor__min_samples_leaf=16, RandomForestRegressor__min_samples_split=6, RandomForestRegressor__n_estimators=100)\n",
      "\n"
     ]
    },
    {
     "name": "stderr",
     "output_type": "stream",
     "text": [
      "Optimization Progress:  19%|█▉        | 21/110 [02:21<06:26,  4.34s/pipeline]"
     ]
    },
    {
     "name": "stdout",
     "output_type": "stream",
     "text": [
      "Pipeline encountered that has previously been evaluated during the optimization process. Using the score from the previous evaluation.\n"
     ]
    },
    {
     "name": "stderr",
     "output_type": "stream",
     "text": [
      "Optimization Progress:  27%|██▋       | 30/110 [04:55<23:30, 17.63s/pipeline]"
     ]
    },
    {
     "name": "stdout",
     "output_type": "stream",
     "text": [
      "Generation 2 - Current Pareto front scores:\n",
      "-1\t-5955.735069288081\tRandomForestRegressor(input_matrix, RandomForestRegressor__bootstrap=False, RandomForestRegressor__max_features=0.15, RandomForestRegressor__min_samples_leaf=11, RandomForestRegressor__min_samples_split=6, RandomForestRegressor__n_estimators=100)\n",
      "\n"
     ]
    },
    {
     "name": "stderr",
     "output_type": "stream",
     "text": [
      "Optimization Progress:  36%|███▋      | 40/110 [09:19<22:27, 19.25s/pipeline]  "
     ]
    },
    {
     "name": "stdout",
     "output_type": "stream",
     "text": [
      "Generation 3 - Current Pareto front scores:\n",
      "-1\t-5924.9334463632185\tRandomForestRegressor(input_matrix, RandomForestRegressor__bootstrap=False, RandomForestRegressor__max_features=0.25, RandomForestRegressor__min_samples_leaf=12, RandomForestRegressor__min_samples_split=6, RandomForestRegressor__n_estimators=100)\n",
      "\n"
     ]
    },
    {
     "name": "stderr",
     "output_type": "stream",
     "text": [
      "Optimization Progress:  36%|███▋      | 40/110 [09:20<22:27, 19.25s/pipeline]"
     ]
    },
    {
     "name": "stdout",
     "output_type": "stream",
     "text": [
      "_pre_test decorator: _random_mutation_operator: num_test=0 Found array with 0 feature(s) (shape=(50, 0)) while a minimum of 1 is required.\n",
      "_pre_test decorator: _random_mutation_operator: num_test=1 __init__() got an unexpected keyword argument 'max_depth'\n"
     ]
    },
    {
     "name": "stderr",
     "output_type": "stream",
     "text": [
      "Optimization Progress:  45%|████▌     | 50/110 [13:05<10:53, 10.89s/pipeline]"
     ]
    },
    {
     "name": "stdout",
     "output_type": "stream",
     "text": [
      "Generation 4 - Current Pareto front scores:\n",
      "-1\t-5924.9334463632185\tRandomForestRegressor(input_matrix, RandomForestRegressor__bootstrap=False, RandomForestRegressor__max_features=0.25, RandomForestRegressor__min_samples_leaf=12, RandomForestRegressor__min_samples_split=6, RandomForestRegressor__n_estimators=100)\n",
      "\n"
     ]
    },
    {
     "name": "stderr",
     "output_type": "stream",
     "text": [
      "Optimization Progress:  55%|█████▍    | 60/110 [18:17<23:58, 28.77s/pipeline]"
     ]
    },
    {
     "name": "stdout",
     "output_type": "stream",
     "text": [
      "Generation 5 - Current Pareto front scores:\n",
      "-1\t-5698.956283861636\tRandomForestRegressor(input_matrix, RandomForestRegressor__bootstrap=False, RandomForestRegressor__max_features=0.15, RandomForestRegressor__min_samples_leaf=8, RandomForestRegressor__min_samples_split=6, RandomForestRegressor__n_estimators=100)\n",
      "\n",
      "_pre_test decorator: _random_mutation_operator: num_test=0 Expected n_neighbors <= n_samples,  but n_samples = 50, n_neighbors = 54\n"
     ]
    },
    {
     "name": "stderr",
     "output_type": "stream",
     "text": [
      "Optimization Progress:  64%|██████▎   | 70/110 [27:45<28:33, 42.83s/pipeline]"
     ]
    },
    {
     "name": "stdout",
     "output_type": "stream",
     "text": [
      "Generation 6 - Current Pareto front scores:\n",
      "-1\t-5698.956283861636\tRandomForestRegressor(input_matrix, RandomForestRegressor__bootstrap=False, RandomForestRegressor__max_features=0.15, RandomForestRegressor__min_samples_leaf=8, RandomForestRegressor__min_samples_split=6, RandomForestRegressor__n_estimators=100)\n",
      "-2\t-5698.880219592264\tRandomForestRegressor(RobustScaler(input_matrix), RandomForestRegressor__bootstrap=False, RandomForestRegressor__max_features=0.15, RandomForestRegressor__min_samples_leaf=8, RandomForestRegressor__min_samples_split=6, RandomForestRegressor__n_estimators=100)\n",
      "\n"
     ]
    },
    {
     "name": "stderr",
     "output_type": "stream",
     "text": [
      "Optimization Progress:  64%|██████▎   | 70/110 [27:46<28:33, 42.83s/pipeline]"
     ]
    },
    {
     "name": "stdout",
     "output_type": "stream",
     "text": [
      "_pre_test decorator: _random_mutation_operator: num_test=0 Found array with 0 feature(s) (shape=(50, 0)) while a minimum of 1 is required.\n"
     ]
    },
    {
     "name": "stderr",
     "output_type": "stream",
     "text": [
      "Optimization Progress:  65%|██████▍   | 71/110 [27:46<19:48, 30.47s/pipeline]"
     ]
    },
    {
     "name": "stdout",
     "output_type": "stream",
     "text": [
      "Pipeline encountered that has previously been evaluated during the optimization process. Using the score from the previous evaluation.\n"
     ]
    },
    {
     "name": "stderr",
     "output_type": "stream",
     "text": [
      "Optimization Progress:  73%|███████▎  | 80/110 [31:54<18:10, 36.36s/pipeline]"
     ]
    },
    {
     "name": "stdout",
     "output_type": "stream",
     "text": [
      "Generation 7 - Current Pareto front scores:\n",
      "-1\t-5064.940050386366\tRandomForestRegressor(input_matrix, RandomForestRegressor__bootstrap=False, RandomForestRegressor__max_features=0.25, RandomForestRegressor__min_samples_leaf=3, RandomForestRegressor__min_samples_split=6, RandomForestRegressor__n_estimators=100)\n",
      "\n",
      "_pre_test decorator: _random_mutation_operator: num_test=0 __init__() got an unexpected keyword argument 'max_depth'\n"
     ]
    },
    {
     "name": "stderr",
     "output_type": "stream",
     "text": [
      "Optimization Progress:  74%|███████▎  | 81/110 [31:56<12:32, 25.95s/pipeline]"
     ]
    },
    {
     "name": "stdout",
     "output_type": "stream",
     "text": [
      "Pipeline encountered that has previously been evaluated during the optimization process. Using the score from the previous evaluation.\n"
     ]
    },
    {
     "name": "stderr",
     "output_type": "stream",
     "text": [
      "Optimization Progress:  82%|████████▏ | 90/110 [39:25<13:24, 40.22s/pipeline]"
     ]
    },
    {
     "name": "stdout",
     "output_type": "stream",
     "text": [
      "Generation 8 - Current Pareto front scores:\n",
      "-1\t-5064.940050386366\tRandomForestRegressor(input_matrix, RandomForestRegressor__bootstrap=False, RandomForestRegressor__max_features=0.25, RandomForestRegressor__min_samples_leaf=3, RandomForestRegressor__min_samples_split=6, RandomForestRegressor__n_estimators=100)\n",
      "\n"
     ]
    },
    {
     "name": "stderr",
     "output_type": "stream",
     "text": [
      "Optimization Progress:  82%|████████▏ | 90/110 [39:27<13:24, 40.22s/pipeline]"
     ]
    },
    {
     "name": "stdout",
     "output_type": "stream",
     "text": [
      "_pre_test decorator: _random_mutation_operator: num_test=0 __init__() got an unexpected keyword argument 'max_depth'\n",
      "_pre_test decorator: _random_mutation_operator: num_test=0 __init__() got an unexpected keyword argument 'max_depth'\n"
     ]
    },
    {
     "name": "stderr",
     "output_type": "stream",
     "text": [
      "Optimization Progress:  91%|█████████ | 100/110 [47:05<07:20, 44.05s/pipeline]"
     ]
    },
    {
     "name": "stdout",
     "output_type": "stream",
     "text": [
      "Generation 9 - Current Pareto front scores:\n",
      "-1\t-5064.940050386366\tRandomForestRegressor(input_matrix, RandomForestRegressor__bootstrap=False, RandomForestRegressor__max_features=0.25, RandomForestRegressor__min_samples_leaf=3, RandomForestRegressor__min_samples_split=6, RandomForestRegressor__n_estimators=100)\n",
      "\n"
     ]
    },
    {
     "name": "stderr",
     "output_type": "stream",
     "text": [
      "Optimization Progress:  91%|█████████ | 100/110 [47:07<07:20, 44.05s/pipeline]"
     ]
    },
    {
     "name": "stdout",
     "output_type": "stream",
     "text": [
      "_pre_test decorator: _random_mutation_operator: num_test=0 precomputed was provided as affinity. Ward can only work with euclidean distances.\n"
     ]
    },
    {
     "name": "stderr",
     "output_type": "stream",
     "text": [
      "                                                                              \r"
     ]
    },
    {
     "name": "stdout",
     "output_type": "stream",
     "text": [
      "Generation 10 - Current Pareto front scores:\n",
      "-1\t-5064.940050386366\tRandomForestRegressor(input_matrix, RandomForestRegressor__bootstrap=False, RandomForestRegressor__max_features=0.25, RandomForestRegressor__min_samples_leaf=3, RandomForestRegressor__min_samples_split=6, RandomForestRegressor__n_estimators=100)\n",
      "\n",
      "-4177.2478239\n"
     ]
    },
    {
     "data": {
      "text/plain": [
       "True"
      ]
     },
     "execution_count": 52,
     "metadata": {},
     "output_type": "execute_result"
    }
   ],
   "source": [
    "from tpot import TPOTRegressor\n",
    "\n",
    "tpot = TPOTRegressor(generations=10, population_size=10,offspring_size=None, mutation_rate=0.9, verbosity=3)\n",
    "tpot.fit(X_train, y_train)\n",
    "print(tpot.score(X_test, y_test))\n",
    "tpot.export('tpot_pipeline.py')"
   ]
  },
  {
   "cell_type": "code",
   "execution_count": 4,
   "metadata": {},
   "outputs": [
    {
     "name": "stdout",
     "output_type": "stream",
     "text": [
      "Collecting features\n",
      "  Downloading features-0.5.8-py2.py3-none-any.whl\n",
      "Collecting concepts<1.0,>=0.7 (from features)\n",
      "  Downloading concepts-0.7.12-py2.py3-none-any.whl\n",
      "Collecting fileconfig<1.0,>=0.5 (from features)\n",
      "  Downloading fileconfig-0.5.6-py2.py3-none-any.whl\n",
      "Collecting graphviz<1.0,>=0.3 (from features)\n",
      "  Downloading graphviz-0.8.2-py2.py3-none-any.whl\n",
      "Collecting bitsets<1.0,>=0.7 (from concepts<1.0,>=0.7->features)\n",
      "  Downloading bitsets-0.7.12-py2.py3-none-any.whl\n",
      "Installing collected packages: bitsets, graphviz, concepts, fileconfig, features\n",
      "Successfully installed bitsets-0.7.12 concepts-0.7.12 features-0.5.8 fileconfig-0.5.6 graphviz-0.8.2\n"
     ]
    }
   ],
   "source": [
    "!pip install features"
   ]
  },
  {
   "cell_type": "code",
   "execution_count": 6,
   "metadata": {},
   "outputs": [
    {
     "name": "stdout",
     "output_type": "stream",
     "text": [
      "Collecting featuretools\n",
      "  Downloading featuretools-0.1.18.tar.gz (128kB)\n",
      "Requirement already satisfied: numpy>=1.13.3 in c:\\users\\shlok\\anaconda3\\lib\\site-packages (from featuretools)\n",
      "Requirement already satisfied: scipy>=1.0.0 in c:\\users\\shlok\\anaconda3\\lib\\site-packages (from featuretools)\n",
      "Requirement already satisfied: pandas>=0.20.3 in c:\\users\\shlok\\anaconda3\\lib\\site-packages (from featuretools)\n",
      "Collecting s3fs>=0.1.2 (from featuretools)\n",
      "  Downloading s3fs-0.1.4.tar.gz\n",
      "Collecting tqdm>=4.19.2 (from featuretools)\n",
      "  Downloading tqdm-4.19.8-py2.py3-none-any.whl (52kB)\n",
      "Requirement already satisfied: toolz>=0.8.2 in c:\\users\\shlok\\anaconda3\\lib\\site-packages (from featuretools)\n",
      "Requirement already satisfied: pyyaml>=3.12 in c:\\users\\shlok\\anaconda3\\lib\\site-packages (from featuretools)\n",
      "Requirement already satisfied: cloudpickle>=0.4.0 in c:\\users\\shlok\\anaconda3\\lib\\site-packages (from featuretools)\n",
      "Collecting future>=0.16.0 (from featuretools)\n",
      "  Downloading future-0.16.0.tar.gz (824kB)\n",
      "Collecting pympler>=0.5 (from featuretools)\n",
      "  Downloading Pympler-0.5.tar.gz (170kB)\n",
      "Requirement already satisfied: python-dateutil>=2 in c:\\users\\shlok\\anaconda3\\lib\\site-packages (from pandas>=0.20.3->featuretools)\n",
      "Requirement already satisfied: pytz>=2011k in c:\\users\\shlok\\anaconda3\\lib\\site-packages (from pandas>=0.20.3->featuretools)\n",
      "Collecting boto3 (from s3fs>=0.1.2->featuretools)\n",
      "  Downloading boto3-1.6.11-py2.py3-none-any.whl (128kB)\n",
      "Requirement already satisfied: six>=1.5 in c:\\users\\shlok\\anaconda3\\lib\\site-packages (from python-dateutil>=2->pandas>=0.20.3->featuretools)\n",
      "Collecting botocore<1.10.0,>=1.9.11 (from boto3->s3fs>=0.1.2->featuretools)\n",
      "  Downloading botocore-1.9.11-py2.py3-none-any.whl (4.1MB)\n",
      "Collecting s3transfer<0.2.0,>=0.1.10 (from boto3->s3fs>=0.1.2->featuretools)\n",
      "  Downloading s3transfer-0.1.13-py2.py3-none-any.whl (59kB)\n",
      "Collecting jmespath<1.0.0,>=0.7.1 (from boto3->s3fs>=0.1.2->featuretools)\n",
      "  Downloading jmespath-0.9.3-py2.py3-none-any.whl\n",
      "Requirement already satisfied: docutils>=0.10 in c:\\users\\shlok\\anaconda3\\lib\\site-packages (from botocore<1.10.0,>=1.9.11->boto3->s3fs>=0.1.2->featuretools)\n",
      "Building wheels for collected packages: featuretools, s3fs, future, pympler\n",
      "  Running setup.py bdist_wheel for featuretools: started\n",
      "  Running setup.py bdist_wheel for featuretools: finished with status 'done'\n",
      "  Stored in directory: C:\\Users\\shlok\\AppData\\Local\\pip\\Cache\\wheels\\33\\a9\\9e\\d1d7629d745c98b7df4b3a5011f439cd2aa3e5f27e078a1181\n",
      "  Running setup.py bdist_wheel for s3fs: started\n",
      "  Running setup.py bdist_wheel for s3fs: finished with status 'done'\n",
      "  Stored in directory: C:\\Users\\shlok\\AppData\\Local\\pip\\Cache\\wheels\\cd\\32\\08\\51bc7cf422a5bc8dcf7039a8e03aa1fc608209776f38afe954\n",
      "  Running setup.py bdist_wheel for future: started\n",
      "  Running setup.py bdist_wheel for future: finished with status 'done'\n",
      "  Stored in directory: C:\\Users\\shlok\\AppData\\Local\\pip\\Cache\\wheels\\c2\\50\\7c\\0d83b4baac4f63ff7a765bd16390d2ab43c93587fac9d6017a\n",
      "  Running setup.py bdist_wheel for pympler: started\n",
      "  Running setup.py bdist_wheel for pympler: finished with status 'done'\n",
      "  Stored in directory: C:\\Users\\shlok\\AppData\\Local\\pip\\Cache\\wheels\\57\\c6\\8b\\91d4e0ffb106e935ca145964d13c03619943430ba9344c0206\n",
      "Successfully built featuretools s3fs future pympler\n",
      "Installing collected packages: jmespath, botocore, s3transfer, boto3, s3fs, tqdm, future, pympler, featuretools\n",
      "Successfully installed boto3-1.6.11 botocore-1.9.11 featuretools-0.1.18 future-0.16.0 jmespath-0.9.3 pympler-0.5 s3fs-0.1.4 s3transfer-0.1.13 tqdm-4.19.8\n"
     ]
    }
   ],
   "source": [
    "!pip install featuretools"
   ]
  },
  {
   "cell_type": "code",
   "execution_count": 17,
   "metadata": {},
   "outputs": [],
   "source": [
    "import featuretools as ft"
   ]
  },
  {
   "cell_type": "code",
   "execution_count": 18,
   "metadata": {},
   "outputs": [],
   "source": [
    "energy_data = energy_data.drop(['rv1','rv2'],axis=1)\n",
    "\n",
    "y_featuretools = energy_data[['date','Appliances']]\n",
    "X_featuretools = energy_data.drop(['Appliances'],axis=1)\n",
    "entities ={\"appliances\" :(y_featuretools,\"date\"),\n",
    "          \"rest\" :(X_featuretools,\"date\")}\n",
    "relationships = [(\"appliances\",\"date\",\"rest\",\"date\")]"
   ]
  },
  {
   "cell_type": "code",
   "execution_count": 19,
   "metadata": {},
   "outputs": [],
   "source": [
    "feature_matrix_app,features_defs = ft.dfs(entities=entities,relationships=relationships,target_entity=\"appliances\")"
   ]
  },
  {
   "cell_type": "code",
   "execution_count": 20,
   "metadata": {},
   "outputs": [],
   "source": [
    "feature_matrix_app1 = feature_matrix_app"
   ]
  },
  {
   "cell_type": "code",
   "execution_count": 21,
   "metadata": {},
   "outputs": [
    {
     "data": {
      "text/plain": [
       "Appliances                     int64\n",
       "SUM(rest.lights)               int64\n",
       "SUM(rest.T1)                 float64\n",
       "SUM(rest.RH_1)               float64\n",
       "SUM(rest.T2)                 float64\n",
       "SUM(rest.RH_2)               float64\n",
       "SUM(rest.T3)                 float64\n",
       "SUM(rest.RH_3)               float64\n",
       "SUM(rest.T4)                 float64\n",
       "SUM(rest.RH_4)               float64\n",
       "SUM(rest.T5)                 float64\n",
       "SUM(rest.RH_5)               float64\n",
       "SUM(rest.T6)                 float64\n",
       "SUM(rest.RH_6)               float64\n",
       "SUM(rest.T7)                 float64\n",
       "SUM(rest.RH_7)               float64\n",
       "SUM(rest.T8)                 float64\n",
       "SUM(rest.RH_8)               float64\n",
       "SUM(rest.T9)                 float64\n",
       "SUM(rest.RH_9)               float64\n",
       "SUM(rest.T_out)              float64\n",
       "SUM(rest.Press_mm_hg)        float64\n",
       "SUM(rest.RH_out)             float64\n",
       "SUM(rest.Windspeed)          float64\n",
       "SUM(rest.Visibility)         float64\n",
       "SUM(rest.Tdewpoint)          float64\n",
       "SUM(rest.year)                 int64\n",
       "SUM(rest.month)                int64\n",
       "SUM(rest.day)                  int64\n",
       "SUM(rest.hours)                int64\n",
       "                              ...   \n",
       "MEAN(rest.RH_3)              float64\n",
       "MEAN(rest.T4)                float64\n",
       "MEAN(rest.RH_4)              float64\n",
       "MEAN(rest.T5)                float64\n",
       "MEAN(rest.RH_5)              float64\n",
       "MEAN(rest.T6)                float64\n",
       "MEAN(rest.RH_6)              float64\n",
       "MEAN(rest.T7)                float64\n",
       "MEAN(rest.RH_7)              float64\n",
       "MEAN(rest.T8)                float64\n",
       "MEAN(rest.RH_8)              float64\n",
       "MEAN(rest.T9)                float64\n",
       "MEAN(rest.RH_9)              float64\n",
       "MEAN(rest.T_out)             float64\n",
       "MEAN(rest.Press_mm_hg)       float64\n",
       "MEAN(rest.RH_out)            float64\n",
       "MEAN(rest.Windspeed)         float64\n",
       "MEAN(rest.Visibility)        float64\n",
       "MEAN(rest.Tdewpoint)         float64\n",
       "MEAN(rest.year)                int64\n",
       "MEAN(rest.month)               int64\n",
       "MEAN(rest.day)                 int64\n",
       "MEAN(rest.hours)               int64\n",
       "MEAN(rest.minutes)             int64\n",
       "MEAN(rest.seconds)             int64\n",
       "MEAN(rest.week)                int64\n",
       "MEAN(rest.day_of_week)         int64\n",
       "MEAN(rest.weekday)             int64\n",
       "NUM_UNIQUE(rest.day_name)      int64\n",
       "MODE(rest.day_name)           object\n",
       "Length: 207, dtype: object"
      ]
     },
     "execution_count": 21,
     "metadata": {},
     "output_type": "execute_result"
    }
   ],
   "source": [
    "feature_matrix_app1.dtypes"
   ]
  },
  {
   "cell_type": "code",
   "execution_count": 32,
   "metadata": {},
   "outputs": [
    {
     "ename": "AttributeError",
     "evalue": "'numpy.ndarray' object has no attribute 'drop'",
     "output_type": "error",
     "traceback": [
      "\u001b[1;31m---------------------------------------------------------------------------\u001b[0m",
      "\u001b[1;31mAttributeError\u001b[0m                            Traceback (most recent call last)",
      "\u001b[1;32m<ipython-input-32-51cc2f114c98>\u001b[0m in \u001b[0;36m<module>\u001b[1;34m()\u001b[0m\n\u001b[1;32m----> 1\u001b[1;33m \u001b[0my_featuretools\u001b[0m \u001b[1;33m=\u001b[0m \u001b[0my_featuretools\u001b[0m\u001b[1;33m.\u001b[0m\u001b[0mdrop\u001b[0m\u001b[1;33m(\u001b[0m\u001b[1;34m'date'\u001b[0m\u001b[1;33m,\u001b[0m\u001b[0maxis\u001b[0m\u001b[1;33m=\u001b[0m\u001b[1;36m1\u001b[0m\u001b[1;33m)\u001b[0m\u001b[1;33m\u001b[0m\u001b[0m\n\u001b[0m\u001b[0;32m      2\u001b[0m \u001b[0my_featuretools\u001b[0m \u001b[1;33m=\u001b[0m \u001b[0my_featuretools\u001b[0m\u001b[1;33m.\u001b[0m\u001b[0mvalues\u001b[0m\u001b[1;33m\u001b[0m\u001b[0m\n",
      "\u001b[1;31mAttributeError\u001b[0m: 'numpy.ndarray' object has no attribute 'drop'"
     ]
    }
   ],
   "source": [
    "y_featuretools = y_featuretools.drop('date',axis=1)\n",
    "y_featuretools = y_featuretools.values"
   ]
  },
  {
   "cell_type": "code",
   "execution_count": 24,
   "metadata": {},
   "outputs": [],
   "source": [
    "from sklearn.model_selection import train_test_split\n",
    "X_train, X_test, y_train, y_test = train_test_split(feature_matrix_app1, y_featuretools, test_size=0.25, random_state=42)"
   ]
  },
  {
   "cell_type": "code",
   "execution_count": null,
   "metadata": {},
   "outputs": [],
   "source": []
  }
 ],
 "metadata": {
  "kernelspec": {
   "display_name": "Python 3",
   "language": "python",
   "name": "python3"
  },
  "language_info": {
   "codemirror_mode": {
    "name": "ipython",
    "version": 3
   },
   "file_extension": ".py",
   "mimetype": "text/x-python",
   "name": "python",
   "nbconvert_exporter": "python",
   "pygments_lexer": "ipython3",
   "version": "3.6.4"
  }
 },
 "nbformat": 4,
 "nbformat_minor": 2
}
