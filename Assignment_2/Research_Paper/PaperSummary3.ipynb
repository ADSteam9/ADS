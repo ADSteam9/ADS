{
 "cells": [
  {
   "cell_type": "markdown",
   "metadata": {},
   "source": [
    "# Prediction of appliances energy use in smart homes"
   ]
  },
  {
   "cell_type": "markdown",
   "metadata": {},
   "source": [
    "This jupyter notebook is based on the paper: [Prediction of appliances energy use in smart homes](https://www.sciencedirect.com/science/article/pii/S0360544212002903)\n",
    "\n",
    "### Abstract\n",
    "The aim of this paper is to predict the next day electricity consumption for some services in home depending on the historical data. We have tried to study the total energy consumed in home and each appliance as well. To do dynamic demand-side management, we need to do energy saving depending on the appliances.\n",
    "\n",
    "\n",
    "### 1. Introduction\n",
    "Energy consumption in the residential sector represents an important part of the total electricity demand. A bottom-up approach can be used: first, the energy consumption prediction is done for each appliance in a home, then the forecast will be made for the total energy consumed in a home and, finally, a prediction can be made regarding the households supplied by a certain energy provider. Even if it is easier to predict overall consumption, it is important to be able to predict the consumption of each appliance because, regarding dynamic demand-side management, it is important to evaluate how much energy can be saved. The energy savings depend on appliances: some can be unbalanced, some can be postponed and some cannot be changed. The purpose of this paper is to predict the energy consumption in houses for the next 24 h, as the energy price in the day-ahead market is set for each hourly interval with one day advance. Also, the prediction of the next day energy consumption for different services in a house is an important part of a home automation system presents a household energy control system with three layers: anticipative layer, reactive layer and device layer."
   ]
  },
  {
   "cell_type": "markdown",
   "metadata": {},
   "source": [
    "### 2. The need for energy prediction in housing\n",
    "\n",
    "#### 2.1 The smart grid\n",
    "Smart grid integrates the use of sensors,communications, computational ability and control in order to enhance the overall functionality of the electric power system. Smart grid initiatives seek to improve operations, maintenance and planning using modern technology in order to better manage energy use and costs. Many governments sustain modern networks in the global context of energy saving and environment issues. United States Department of Energy has defined the functions required for smart grids in: the ability to heal itself; to motivate consumers to actively participate in operations of the grid, to resist attack, to provide higher power quality, to accommodate all generation and storage options, to enable electricity markets to flourish, to manage more efficiently the assets and costs.\n",
    "\n",
    "<img src=\"img4.JPG\">\n",
    "\n",
    "\n",
    "The energy market is a powerful instrument that sets the prices between the energy producers and energy suppliers and consumers. The energy market is divided into different categories, but the Day Ahead Market or Spot Market is of great interest. This type of energy market involves bidding the energy consumption of the next day. It is avery complex mechanism, which requires a very good knowledge of the demand for the power suppliers. The participation in the day-ahead energy market imposes a dynamic energy management (hour by hour changes in the energy production/consumption ratio).\n",
    "\n",
    "<img src=\"img5.JPG\">"
   ]
  },
  {
   "cell_type": "markdown",
   "metadata": {},
   "source": [
    "#### 2.2 The importance of the energy prediction in smart grids\n",
    "Residential consumers represent a high percentage of the total energy consumption, the energy suppliers should focus on the forecasting the housing consumption. The distridution of all the sectors goes as follows:\n",
    "1. Households and services (37.1%)\n",
    "2. Industry (27.9%)\n",
    "3. Transport (32.6%)\n",
    "4. Agriculture (2.4%)"
   ]
  },
  {
   "cell_type": "markdown",
   "metadata": {},
   "source": [
    "The smart home is a new concept that allows control of the services in the house through a home automation system. The electrical devices include two-way communication capabilities for allowing the energy management system to control the consumption.\n",
    "The smart home represents an important component in the smart grid. The relationship between the smart home and the electrical grid helps in keeping a good energy management is to manage this type of load demand through price constraints.\n",
    "\n",
    "<img src=\"img6.JPG\">"
   ]
  },
  {
   "cell_type": "markdown",
   "metadata": {},
   "source": [
    "### 3. Energy prediction methodology for appliances in homes\n",
    "The prediction of energy consumption of each electrical appliance in the house helps the anticipative layer to compute the optimal energy plan taking into account the user predicted requests and the available energy resources. It can decide to postpone some appliances or even to shut down some of them.Different types of predictions can be made in order to determine\n",
    "the energy consumption of the appliances in a house.\n",
    "\n",
    "\n",
    "#### 3.1 Assessing the performance of predictors\n",
    "It is important to set up a method for assessing the performance of a predictor because it clarifies the objectives. For computing the performances of a predictor, test data are first to be considered. Because of the predictions required by an anticipative energy management system, the test data are the hourly energy consumption for an appliance over a full year.\n",
    "\n",
    "\n",
    "\n",
    "#### 3.2. Prediction with different predictors\n",
    "\n",
    "##### 3.2.1. The “will always consume” predictor\n",
    "This type of predictor involves considering that the appliance will consume energy permanently. The prediction is computed based on a set of test data and refers to the probability of the service to consume energy.\n",
    "\n",
    "##### 3.2.2. The “will never consume” predictor\n",
    "This predictor assumes the service will not consume at all in the next day. The prediction is computed based on a set of test data and refers to the probability of the service not to consume.\n",
    "\n",
    "##### 3.2.3. The ARMA predictor\n",
    "The time-series approach is generally used in predicting energy consumption. One predictor that uses the ARMA (Auto Regressive Moving Average) method is described further. This method is one where the current value of a time variable is assumed to be a function of its past values and it is expressed as a weighted sum (moving average).\n",
    "\n",
    "##### 3.2.4. The proposed predictor\n",
    "An inhabitant in the house interacts with various electrical devices as part of his routine activities. Thus, energy consumption\n",
    "can be modeled as a stochastic process. In that context, the proposed predictor specifies the probability of the appliance to consume on an hourly base.\n",
    "\n",
    "\n",
    "\n",
    "\n",
    "#### 3.3 Improving the prediction precision\n",
    "\n",
    "##### 3.3.1. The segmentation of data\n",
    "While mining the available data, some pattern of recurrence is searched in order to improve the prediction. A temporal segmentation can be used to introduce knowledge in the predictor, for instance, the use of the oven may be different for rainy Saturdays.\n",
    "The segmentation of data can be made considering different aspects such as the season, month, period of the day (day/night),\n",
    "type of day (weekday/weekend). The objective of this operation is to reduce the average dispersion in order to improve the prediction. After the segmentation is done, we will merge the segments that are similar using a clustering algorithm in order to gather the nonmeaningful segments. A temporal segmentation, that considers each day of the week as a partition was done. For each segment, the hourly predictions are made considering the proposed predictor. A k-Means clustering algorithm is applied in order to group the similar consumption days.\n",
    "\n",
    "##### 3.3.2. The prediction precision after clustering\n",
    "After applying the iterative k-Means algorithm, two clusters are obtained. In the presented case, cluster C1 groups weekdays data and cluster C2 gathers Saturday and Sunday data. After the clusters are obtained, the initial data corresponding to the energy consumption is divided into 2 sets according to the number of clusters and the considered segments. "
   ]
  },
  {
   "cell_type": "markdown",
   "metadata": {},
   "source": [
    "### 4. Global study of the services in the house\n",
    "The prediction precision is computed for a sliding time window between 1 and 364 days, covering all the historical data available. The global study of the different appliances in houses shows that the prediction acts in a special manner depending on the type of the electrical appliance. \n",
    "This conclusion was that, the energy consumption for the various appliances is dependent on the season, so a short period of time is significant for prediction."
   ]
  },
  {
   "cell_type": "markdown",
   "metadata": {},
   "source": [
    "### 5. Conclusion\n",
    "Forecasting the energy consumption in homes is an important aspect in the power management of the grid, as the consumption in the residential sector represents a significant percentage in the total electricity demand. The development of the smart grid is not possible without a good prediction of energy consumption. The prediction of energy consumption in housing is very\n",
    "dependent on inhabitants’ behavior. A relevant predictor is based on the segmentation of data considering the patterns in energy consumption. The historical data is divided according to the results of the k-means clustering algorithm. This procedure improves the precision of the predictor."
   ]
  }
 ],
 "metadata": {
  "kernelspec": {
   "display_name": "Python 3",
   "language": "python",
   "name": "python3"
  },
  "language_info": {
   "codemirror_mode": {
    "name": "ipython",
    "version": 3
   },
   "file_extension": ".py",
   "mimetype": "text/x-python",
   "name": "python",
   "nbconvert_exporter": "python",
   "pygments_lexer": "ipython3",
   "version": "3.6.3"
  }
 },
 "nbformat": 4,
 "nbformat_minor": 2
}
