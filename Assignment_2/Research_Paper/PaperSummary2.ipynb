{
 "cells": [
  {
   "cell_type": "markdown",
   "metadata": {},
   "source": [
    "# A review of artificial intelligence based building energy use prediction: \n",
    "\n",
    "## Contrasting the capabilities of single and ensemble prediction models"
   ]
  },
  {
   "cell_type": "markdown",
   "metadata": {},
   "source": [
    "This jupyter notebook is based on the paper: [A review of artificial intelligence based building energy use prediction: Contrasting the capabilities of single and ensemble prediction models](https://www.sciencedirect.com/science/article/pii/S1364032116307420)\n",
    "\n",
    "### 1. Introduction\n",
    "Building energy prediction helps in building energy management and conservation. The predictions are classified into engineering, AI based and hybrid approaches. Engineering and hybrid approaches use thermodynamics whereas AI based use historical data to predict future energy use. The summary explains the various single AI based method's description as given in the paper. The various methods are multiple linear regression, artificial neural network, support vectore regression and ensemble prediction method."
   ]
  },
  {
   "cell_type": "markdown",
   "metadata": {},
   "source": [
    "Two prediction method are studied and compared for building energy predictions and they are:\n",
    "1. Single prediction method utilizing one learning algorithm\n",
    "2. Ensemble prediction method which integrade some of the single prediction method to improve accuracy of prediction"
   ]
  },
  {
   "cell_type": "markdown",
   "metadata": {},
   "source": [
    "### 2. Current trends: AI based building energy use prediction"
   ]
  },
  {
   "cell_type": "markdown",
   "metadata": {},
   "source": [
    "A total number of 35 representative journal articals from recent six years(2011-2016) were identified to comprehend the research status and trends of AI-based building energy use prediction. The selection criteria included the building types, prediction approaches, energy output types predicted, time scale of theprediction, and input data types used for prediction."
   ]
  },
  {
   "cell_type": "markdown",
   "metadata": {},
   "source": [
    "####          2.1 Building type\n",
    "According to the functional usage, the tested buildings may be classified into four categories, e.g., commercial, residential, educational and research, and other building types. AI based prediction models were largely used for energy prediction of the educational reseach which was 42% and commercial building types was 33%. These were preferred because of the data availability and potentially easier access to the available data. Although residential buildings account for the largest proportion of building energy use, but due to the difficuly in data collection for residential buildings has adequately slowed the use of AI-based energy use prediction. They are also short of senors and meters to collect occupancy and energy data, which are essential for AI-based prediction models.\n",
    "\n",
    "Composition of building types:\n",
    "1. Education and research (42%)\n",
    "2. Commercial (33%)\n",
    "3. Residential (17%)\n",
    "4. Other (8%)"
   ]
  },
  {
   "cell_type": "markdown",
   "metadata": {},
   "source": [
    "#### 2.2 Prediction method\n",
    "Various AI-based energy prediction models were proposed in the reviewed articles. According to the model structure and the number of the prediction models used, these models may be classified into two categories: single and ensemble prediction models. 91% of the studies used single prediction algorithm and only 9% of the studies used ensemble models. This is due to the fact that the framework of applying AI-based models to building energy use is well established. \n",
    "\n",
    "The prediction methods may be classified from the prespective of applied learning algorithms. The paper classified the learning algorithms into four categories: regression, ANN, SVR, and all others. Review showed that the following percentages of types of learning algorithm applied to building energy use prediction: regression (26%), ANN (41%), SVR(12%), and all others(21%).\n",
    "ANN is the most widely used algorithm amongs all the four. "
   ]
  },
  {
   "cell_type": "markdown",
   "metadata": {},
   "source": [
    "#### 2.3 Energy type\n",
    "The predicted energy may be classified into the following five categories:\n",
    "1. Whole Building Energy/Electricity (57%)\n",
    "2. Heating and Cooling Energy (11%)\n",
    "3. Heating Energy (11%)\n",
    "4. Cooling Energy (13%)\n",
    "5. Others (8%)\n",
    "\n",
    "This is because most of the studied buildings are either commercial or educational/research buildings whose heating and cooling energy usage accounts for a large proportion of overall building energy use. "
   ]
  },
  {
   "cell_type": "markdown",
   "metadata": {},
   "source": [
    "#### 2.4 Prediction time scale\n",
    "Prediction time scale represents the time resolution of the prediction which is often impacted by the sampling interval of sensors and the purpose of the research. The various prediction time scale chosen for building energy use predictions were minute-by-minute, hourly, daily, or annual. The following shows the composition of prediction time scale:\n",
    "\n",
    "1. Hour (49%)\n",
    "2. Year (8%)\n",
    "3. Day (19%)\n",
    "4. Other (24%) \n",
    "\n",
    "Anual building energy use prediction is found only in 8% of all studies due to the resolute focus on short-term prediction rather than long-term prediction. "
   ]
  },
  {
   "cell_type": "markdown",
   "metadata": {},
   "source": [
    "#### 2.5 Input data type\n",
    "Selecting highly correlated input data is crucial for AI-based building energy use prediction. The literature review showed that researchers collected input data based on their knowledge of the prediction model and the availability of the data. Since the experimental condition varies in different studies, various input features have been selected to work as the input data for AI-based prediction models. Based on the type of input data, the authors classify them into three categories as follows:\n",
    "\n",
    "1. Meteorological data (60%) which includes the information of outdoor temperature, humidity, wind speed, precipitation and solar radiation which can be collected from the local weather station.\n",
    "2. Occupancy data (29%) is hard to acquire quality data due to lack of quality data. The day occupancy, night occupancy, patterns of occupancy are taken into consideration.\n",
    "3. Others (54%) It should be noted that multiple types of data can be considered to conduct the prediction. The higher percentage of meteorological data is because of the easy availability of sensors. The occupancy data is on a lower side mainly because of privacy reasons and availability of occupancy sensors."
   ]
  },
  {
   "cell_type": "markdown",
   "metadata": {},
   "source": [
    "### 3. AI-based prediction models\n",
    "AI-based prediction method consists of four main steps: data collection, data preprocessing, model training, and model testing. The first step is to acquire historical input and output data. The prediction accuracy of AI-based prediction model highly depends on the selection of input data. In general, most influential and highly correlated input data may bring better prediction results.The second step is data preprocessing that is performed on the collected data to organize them in a suitable format before they are used to train the AI-based prediction model. Data preprocessing techniques such as data transformation, data normalization, and data interpolation may be applied in this step to improve the data quality.The third step is to -train the AI-based prediction model. Since the key concept of the AI-based prediction method is learning from historical data, a training process is required to develop the model. More specifically, the training process aims to select the most appropriate parameters that improve the prediction performance of the learning algorithm. Notably, the type of parameters varies between different learning algorithms. The parameter selections are impacted by various factors such as the size of training data, the selection of input variables, and the performance indicators. The fourth step is to validate the prediction performance of the model by applying the testing data to the trained model."
   ]
  },
  {
   "cell_type": "markdown",
   "metadata": {},
   "source": [
    "#### 3.1 Single prediction method\n",
    "The single prediction method refers to the prediction system which is formed based on one prediction algorithm. In this paper, the scope of single prediction method covers all available AI-based prediction models, i.e., MLR, ANN, and SVR. Consequently, this method may be subdivided into several types based on their applied learning algorithms. For this paper, they primarily focused on the algorithms that are employed in the field of AI-based building energy use prediction."
   ]
  },
  {
   "cell_type": "markdown",
   "metadata": {},
   "source": [
    "#### 3.2 Ensemble prediction method\n",
    "In machine learning, ensemble model is defined as an approach using multiple learning algorithms/models to obtain better predictive performance than that could be obtained from any of the constituent learning algorithms/models. The concept of ensemble model is intuitively used in daily life where we consult multiple experts, weigh, and combine their views to make a more informed and optimized decision. Rather than a prediction algorithm, ensemble model works as a framework which aims to provide the best possible prediction performance by automatically managing the strengths and weaknesses of each base model. \n",
    "\n",
    "<img src=\"img1.JPG\">"
   ]
  },
  {
   "cell_type": "markdown",
   "metadata": {},
   "source": [
    "Based on the selection of the base models, ensemble prediction models may be further classified into two types as follows:\n",
    "1. Homogeneous Ensemble Model : It uses the same base learner on different distributions of the training set, i.e., bagging and boosting. This method works especially well for unstable learning algorithms, i.e., algorithms whose output undergoes major changes in response to small changes in the traing data. \n",
    "\n",
    "<img src=\"img2.JPG\">"
   ]
  },
  {
   "cell_type": "markdown",
   "metadata": {},
   "source": [
    "2.Heterogeneous Ensemble Model : It comprises of different learning models which are trained by the same data set. \n",
    "\n",
    "<img src=\"img3.JPG\">"
   ]
  },
  {
   "cell_type": "markdown",
   "metadata": {},
   "source": [
    "Ensembling models are implemented as per the following steps:\n",
    "1. Input feature identification\n",
    "2. Data monitoring and preprocessing \n",
    "3. Learning algorithm selection\n",
    "4. Base model generation\n",
    "5. Model integration "
   ]
  },
  {
   "cell_type": "markdown",
   "metadata": {},
   "source": [
    "### 4. Advantages and disadvantages of AI-based prediction methods\n",
    "\n",
    "#### 4.1 Advantages\n",
    "1. Compared with engineering methods, AI-based prediction method\n",
    "requires less detailed physical information of the building. There is\n",
    "no need for model developer to have high level of knowledge of the\n",
    "physical building parameters, which in return saves both time and\n",
    "cost for conducting the prediction;\n",
    "2. The process of data acquisition and data loading is relatively\n",
    "convenient, which means the prediction model can be easy established;\n",
    "3. Based on previous studies, AI-based prediction methods provide\n",
    "promising prediction accuracy once the model is well trained.\n",
    "\n",
    "\n",
    "#### 4.2 Disadvantages\n",
    "1. There is no explicit relation between the physical building parameters and model inputs, which makes it impossible to extrapolate\n",
    "building energy performance once the design and/or operation of\n",
    "the building has changed;\n",
    "2. The AI-based method is hard to be applied in building design phase\n",
    "as it requires historical building performance data to train the\n",
    "prediction model;\n",
    "3. AI-based prediction method requires extensive training data for\n",
    "model establishment and maintaining prediction quality;\n",
    "4. The AI-based prediction model needs to be re-trained once changes\n",
    "are made to building envelope, system or operation."
   ]
  },
  {
   "cell_type": "markdown",
   "metadata": {},
   "source": [
    "### 5. Conclusion\n",
    "Trends of AI-based prediction methods are analyzed from five aspects, namely, the type of studied buildings, the methods used for prediction, the type of predicted energies, the time scale of the prediction, and the type of input data used for rediction. Two main categories of AI-based prediction methods, namely, the single prediction methods and the ensemble prediction methods are discussed and compared. The theory, application, and characteristics of three main types of single prediction methods (multiple linear regression, artificial neural networks, and support vector regression) and ensemble prediction methods."
   ]
  }
 ],
 "metadata": {
  "kernelspec": {
   "display_name": "Python 3",
   "language": "python",
   "name": "python3"
  },
  "language_info": {
   "codemirror_mode": {
    "name": "ipython",
    "version": 3
   },
   "file_extension": ".py",
   "mimetype": "text/x-python",
   "name": "python",
   "nbconvert_exporter": "python",
   "pygments_lexer": "ipython3",
   "version": "3.6.3"
  }
 },
 "nbformat": 4,
 "nbformat_minor": 2
}
