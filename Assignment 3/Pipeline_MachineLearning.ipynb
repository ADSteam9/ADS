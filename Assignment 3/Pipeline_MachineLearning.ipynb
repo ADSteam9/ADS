{
 "cells": [
  {
   "cell_type": "code",
   "execution_count": 85,
   "metadata": {},
   "outputs": [],
   "source": [
    "from collections import Counter\n",
    "from imblearn.datasets import fetch_datasets\n",
    "from sklearn.model_selection import train_test_split\n",
    "from sklearn.pipeline import make_pipeline\n",
    "from imblearn.pipeline import make_pipeline as make_pipeline_imb\n",
    "from imblearn.over_sampling import SMOTE\n",
    "from imblearn.under_sampling import NearMiss\n",
    "from imblearn.metrics import classification_report_imbalanced\n",
    "from sklearn.metrics import precision_score, recall_score, f1_score, roc_auc_score, accuracy_score, classification_report\n",
    "from sklearn import preprocessing\n",
    "import pickle\n",
    "import os\n",
    "\n",
    "import numpy as np\n",
    "import pandas as pd"
   ]
  },
  {
   "cell_type": "code",
   "execution_count": 87,
   "metadata": {},
   "outputs": [],
   "source": [
    "model_name =[]\n",
    "accuracy =[]\n",
    "precision = []\n",
    "recall = []\n",
    "f1score = []"
   ]
  },
  {
   "cell_type": "code",
   "execution_count": 88,
   "metadata": {},
   "outputs": [],
   "source": [
    "def print_results(modelName, true_value, pred):\n",
    "\n",
    "    print(\"Model Name: {}\".format(modelName))\n",
    "    model_name.append(modelName)\n",
    "    print(\"accuracy: {}\".format(accuracy_score(true_value, pred)))\n",
    "    accuracy.append(accuracy_score(true_value, pred))\n",
    "    print(\"precision: {}\".format(precision_score(true_value, pred)))\n",
    "    precision.append(precision_score(true_value, pred))\n",
    "    print(\"recall: {}\".format(recall_score(true_value, pred)))\n",
    "    recall.append(recall_score(true_value, pred))\n",
    "    print(\"f1: {}\".format(f1_score(true_value, pred)))\n",
    "    f1score.append(f1_score(true_value, pred))\n",
    "    \n",
    "\n",
    "data = pd.read_csv(\"boruta_features.csv\")\n"
   ]
  },
  {
   "cell_type": "code",
   "execution_count": 89,
   "metadata": {},
   "outputs": [
    {
     "data": {
      "text/html": [
       "<div>\n",
       "<style scoped>\n",
       "    .dataframe tbody tr th:only-of-type {\n",
       "        vertical-align: middle;\n",
       "    }\n",
       "\n",
       "    .dataframe tbody tr th {\n",
       "        vertical-align: top;\n",
       "    }\n",
       "\n",
       "    .dataframe thead th {\n",
       "        text-align: right;\n",
       "    }\n",
       "</style>\n",
       "<table border=\"1\" class=\"dataframe\">\n",
       "  <thead>\n",
       "    <tr style=\"text-align: right;\">\n",
       "      <th></th>\n",
       "      <th>1 net profit / total assets</th>\n",
       "      <th>2 total liabilities / total assets</th>\n",
       "      <th>6 retained earnings / total assets</th>\n",
       "      <th>5 [(cash + short-term securities + receivables - short-term liabilities) / (operating expenses - depreciation)] * 365</th>\n",
       "      <th>8 book value of equity / total liabilities</th>\n",
       "      <th>9 sales / total assets</th>\n",
       "      <th>10 equity / total assets</th>\n",
       "      <th>12 gross profit / short-term liabilities</th>\n",
       "      <th>13 (gross profit + depreciation) / sales</th>\n",
       "      <th>16 (gross profit + depreciation) / total liabilities</th>\n",
       "      <th>...</th>\n",
       "      <th>26 (net profit + depreciation) / total liabilities</th>\n",
       "      <th>27 profit on operating activities / financial expenses</th>\n",
       "      <th>29 logarithm of total assets</th>\n",
       "      <th>34 operating expenses / total liabilities</th>\n",
       "      <th>38 constant capital / total assets</th>\n",
       "      <th>46 (current assets - inventory) / short-term liabilities</th>\n",
       "      <th>51 short-term liabilities / total assets</th>\n",
       "      <th>55 working capital</th>\n",
       "      <th>64 sales / fixed assets</th>\n",
       "      <th>65 Bankrupt</th>\n",
       "    </tr>\n",
       "  </thead>\n",
       "  <tbody>\n",
       "    <tr>\n",
       "      <th>0</th>\n",
       "      <td>0.200550</td>\n",
       "      <td>0.37951</td>\n",
       "      <td>0.38825</td>\n",
       "      <td>32.3510</td>\n",
       "      <td>1.33050</td>\n",
       "      <td>1.1389</td>\n",
       "      <td>0.50494</td>\n",
       "      <td>0.659800</td>\n",
       "      <td>0.166600</td>\n",
       "      <td>0.733780</td>\n",
       "      <td>...</td>\n",
       "      <td>0.604110</td>\n",
       "      <td>1.4582</td>\n",
       "      <td>5.9443</td>\n",
       "      <td>0.56393</td>\n",
       "      <td>0.50591</td>\n",
       "      <td>1.52250</td>\n",
       "      <td>0.378540</td>\n",
       "      <td>348690.0000</td>\n",
       "      <td>7.42770</td>\n",
       "      <td>0</td>\n",
       "    </tr>\n",
       "    <tr>\n",
       "      <th>1</th>\n",
       "      <td>0.187320</td>\n",
       "      <td>0.61323</td>\n",
       "      <td>0.18732</td>\n",
       "      <td>-7.3128</td>\n",
       "      <td>0.63070</td>\n",
       "      <td>1.1559</td>\n",
       "      <td>0.38677</td>\n",
       "      <td>0.331470</td>\n",
       "      <td>0.121820</td>\n",
       "      <td>0.322110</td>\n",
       "      <td>...</td>\n",
       "      <td>0.322110</td>\n",
       "      <td>1.4138</td>\n",
       "      <td>4.1424</td>\n",
       "      <td>0.32340</td>\n",
       "      <td>0.43489</td>\n",
       "      <td>0.95787</td>\n",
       "      <td>0.565110</td>\n",
       "      <td>3186.6000</td>\n",
       "      <td>7.89800</td>\n",
       "      <td>0</td>\n",
       "    </tr>\n",
       "    <tr>\n",
       "      <th>2</th>\n",
       "      <td>0.009020</td>\n",
       "      <td>0.63202</td>\n",
       "      <td>0.00000</td>\n",
       "      <td>-37.8420</td>\n",
       "      <td>0.58223</td>\n",
       "      <td>1.3332</td>\n",
       "      <td>0.36798</td>\n",
       "      <td>0.033921</td>\n",
       "      <td>0.038938</td>\n",
       "      <td>0.082138</td>\n",
       "      <td>...</td>\n",
       "      <td>0.073572</td>\n",
       "      <td>1.0714</td>\n",
       "      <td>5.9479</td>\n",
       "      <td>1.76970</td>\n",
       "      <td>0.49344</td>\n",
       "      <td>0.81192</td>\n",
       "      <td>0.425540</td>\n",
       "      <td>1.1263</td>\n",
       "      <td>2.56030</td>\n",
       "      <td>0</td>\n",
       "    </tr>\n",
       "    <tr>\n",
       "      <th>3</th>\n",
       "      <td>0.266690</td>\n",
       "      <td>0.34994</td>\n",
       "      <td>0.55983</td>\n",
       "      <td>43.0870</td>\n",
       "      <td>1.85770</td>\n",
       "      <td>1.1268</td>\n",
       "      <td>0.65006</td>\n",
       "      <td>1.099300</td>\n",
       "      <td>0.120470</td>\n",
       "      <td>0.994440</td>\n",
       "      <td>...</td>\n",
       "      <td>0.807590</td>\n",
       "      <td>1.1885</td>\n",
       "      <td>3.9412</td>\n",
       "      <td>0.87075</td>\n",
       "      <td>0.69793</td>\n",
       "      <td>2.02390</td>\n",
       "      <td>0.302070</td>\n",
       "      <td>5340.0000</td>\n",
       "      <td>33.41300</td>\n",
       "      <td>0</td>\n",
       "    </tr>\n",
       "    <tr>\n",
       "      <th>4</th>\n",
       "      <td>0.067731</td>\n",
       "      <td>0.19885</td>\n",
       "      <td>0.21265</td>\n",
       "      <td>90.6060</td>\n",
       "      <td>4.02900</td>\n",
       "      <td>1.2570</td>\n",
       "      <td>0.80115</td>\n",
       "      <td>1.873600</td>\n",
       "      <td>0.310360</td>\n",
       "      <td>0.394150</td>\n",
       "      <td>...</td>\n",
       "      <td>0.342200</td>\n",
       "      <td>2.6744</td>\n",
       "      <td>5.2684</td>\n",
       "      <td>0.27021</td>\n",
       "      <td>0.95834</td>\n",
       "      <td>2.21950</td>\n",
       "      <td>0.041664</td>\n",
       "      <td>15132.0000</td>\n",
       "      <td>0.28803</td>\n",
       "      <td>0</td>\n",
       "    </tr>\n",
       "  </tbody>\n",
       "</table>\n",
       "<p>5 rows × 26 columns</p>\n",
       "</div>"
      ],
      "text/plain": [
       "   1 net profit / total assets  2 total liabilities / total assets  \\\n",
       "0                     0.200550                             0.37951   \n",
       "1                     0.187320                             0.61323   \n",
       "2                     0.009020                             0.63202   \n",
       "3                     0.266690                             0.34994   \n",
       "4                     0.067731                             0.19885   \n",
       "\n",
       "   6 retained earnings / total assets  \\\n",
       "0                             0.38825   \n",
       "1                             0.18732   \n",
       "2                             0.00000   \n",
       "3                             0.55983   \n",
       "4                             0.21265   \n",
       "\n",
       "   5 [(cash + short-term securities + receivables - short-term liabilities) / (operating expenses - depreciation)] * 365  \\\n",
       "0                                            32.3510                                                                       \n",
       "1                                            -7.3128                                                                       \n",
       "2                                           -37.8420                                                                       \n",
       "3                                            43.0870                                                                       \n",
       "4                                            90.6060                                                                       \n",
       "\n",
       "   8 book value of equity / total liabilities  9 sales / total assets  \\\n",
       "0                                     1.33050                  1.1389   \n",
       "1                                     0.63070                  1.1559   \n",
       "2                                     0.58223                  1.3332   \n",
       "3                                     1.85770                  1.1268   \n",
       "4                                     4.02900                  1.2570   \n",
       "\n",
       "   10 equity / total assets  12 gross profit / short-term liabilities  \\\n",
       "0                   0.50494                                  0.659800   \n",
       "1                   0.38677                                  0.331470   \n",
       "2                   0.36798                                  0.033921   \n",
       "3                   0.65006                                  1.099300   \n",
       "4                   0.80115                                  1.873600   \n",
       "\n",
       "   13 (gross profit + depreciation) / sales  \\\n",
       "0                                  0.166600   \n",
       "1                                  0.121820   \n",
       "2                                  0.038938   \n",
       "3                                  0.120470   \n",
       "4                                  0.310360   \n",
       "\n",
       "   16 (gross profit + depreciation) / total liabilities     ...       \\\n",
       "0                                           0.733780        ...        \n",
       "1                                           0.322110        ...        \n",
       "2                                           0.082138        ...        \n",
       "3                                           0.994440        ...        \n",
       "4                                           0.394150        ...        \n",
       "\n",
       "   26 (net profit + depreciation) / total liabilities  \\\n",
       "0                                           0.604110    \n",
       "1                                           0.322110    \n",
       "2                                           0.073572    \n",
       "3                                           0.807590    \n",
       "4                                           0.342200    \n",
       "\n",
       "   27 profit on operating activities / financial expenses  \\\n",
       "0                                             1.4582        \n",
       "1                                             1.4138        \n",
       "2                                             1.0714        \n",
       "3                                             1.1885        \n",
       "4                                             2.6744        \n",
       "\n",
       "   29 logarithm of total assets  34 operating expenses / total liabilities  \\\n",
       "0                        5.9443                                    0.56393   \n",
       "1                        4.1424                                    0.32340   \n",
       "2                        5.9479                                    1.76970   \n",
       "3                        3.9412                                    0.87075   \n",
       "4                        5.2684                                    0.27021   \n",
       "\n",
       "   38 constant capital / total assets  \\\n",
       "0                             0.50591   \n",
       "1                             0.43489   \n",
       "2                             0.49344   \n",
       "3                             0.69793   \n",
       "4                             0.95834   \n",
       "\n",
       "   46 (current assets - inventory) / short-term liabilities  \\\n",
       "0                                            1.52250          \n",
       "1                                            0.95787          \n",
       "2                                            0.81192          \n",
       "3                                            2.02390          \n",
       "4                                            2.21950          \n",
       "\n",
       "   51 short-term liabilities / total assets  55 working capital  \\\n",
       "0                                  0.378540         348690.0000   \n",
       "1                                  0.565110           3186.6000   \n",
       "2                                  0.425540              1.1263   \n",
       "3                                  0.302070           5340.0000   \n",
       "4                                  0.041664          15132.0000   \n",
       "\n",
       "   64 sales / fixed assets  65 Bankrupt  \n",
       "0                  7.42770            0  \n",
       "1                  7.89800            0  \n",
       "2                  2.56030            0  \n",
       "3                 33.41300            0  \n",
       "4                  0.28803            0  \n",
       "\n",
       "[5 rows x 26 columns]"
      ]
     },
     "execution_count": 89,
     "metadata": {},
     "output_type": "execute_result"
    }
   ],
   "source": [
    "data.head()"
   ]
  },
  {
   "cell_type": "code",
   "execution_count": 90,
   "metadata": {},
   "outputs": [],
   "source": [
    "X = data.drop(['65 Bankrupt'], axis =1)\n",
    "y = data['65 Bankrupt']"
   ]
  },
  {
   "cell_type": "markdown",
   "metadata": {},
   "source": [
    "# Random Forest Regression"
   ]
  },
  {
   "cell_type": "code",
   "execution_count": 91,
   "metadata": {},
   "outputs": [],
   "source": [
    "from sklearn.ensemble import RandomForestClassifier"
   ]
  },
  {
   "cell_type": "code",
   "execution_count": 92,
   "metadata": {},
   "outputs": [],
   "source": [
    "# splitting data into training and test set\n",
    "X_train, X_test, y_train, y_test = train_test_split(X, y, random_state=2)\n",
    "\n",
    "scaler = preprocessing.MinMaxScaler()\n",
    "X = scaler.fit_transform(X)"
   ]
  },
  {
   "cell_type": "code",
   "execution_count": 93,
   "metadata": {
    "scrolled": true
   },
   "outputs": [
    {
     "name": "stdout",
     "output_type": "stream",
     "text": [
      "\n",
      "Model Name: RandomForest classification\n",
      "accuracy: 0.9648033126293996\n",
      "precision: 0.23076923076923078\n",
      "recall: 0.3\n",
      "f1: 0.2608695652173913\n",
      "\n"
     ]
    }
   ],
   "source": [
    "# build RabdomForestClassifier model with SMOTE imblearn\n",
    "rfc_pipeline = make_pipeline_imb(SMOTE(random_state=4), RandomForestClassifier(n_estimators=50))\n",
    "smote_model = rfc_pipeline.fit(X_train, y_train)\n",
    "smote_prediction = smote_model.predict(X_test)\n",
    "filename = 'rfc_model.pckl'\n",
    "pickle.dump(rfc_pipeline,open(filename,'wb'))\n",
    "\n",
    "print()\n",
    "print_results(\"RandomForest classification\", y_test, smote_prediction)\n",
    "print()\n"
   ]
  },
  {
   "cell_type": "markdown",
   "metadata": {},
   "source": [
    "# Logistic Regression"
   ]
  },
  {
   "cell_type": "code",
   "execution_count": 94,
   "metadata": {},
   "outputs": [],
   "source": [
    "from sklearn.linear_model import LogisticRegression"
   ]
  },
  {
   "cell_type": "code",
   "execution_count": 95,
   "metadata": {},
   "outputs": [
    {
     "name": "stdout",
     "output_type": "stream",
     "text": [
      "\n",
      "Model Name: Logistic Regression classification\n",
      "accuracy: 0.7712215320910973\n",
      "precision: 0.0759493670886076\n",
      "recall: 0.9\n",
      "f1: 0.14007782101167315\n",
      "\n"
     ]
    }
   ],
   "source": [
    "# build Logistic Rrgression Classifier model with SMOTE imblearn\n",
    "lr_pipeline = make_pipeline_imb(SMOTE(random_state=4), LogisticRegression())\n",
    "smote_model = lr_pipeline.fit(X_train, y_train)\n",
    "smote_prediction = smote_model.predict(X_test)\n",
    "filename = 'lr_model.pckl'\n",
    "pickle.dump(lr_pipeline,open(filename,'wb'))\n",
    "\n",
    "print()\n",
    "print_results(\"Logistic Regression classification\", y_test, smote_prediction)\n",
    "print()"
   ]
  },
  {
   "cell_type": "markdown",
   "metadata": {},
   "source": [
    "# Neural Nets"
   ]
  },
  {
   "cell_type": "code",
   "execution_count": 96,
   "metadata": {},
   "outputs": [],
   "source": [
    "from sklearn.neural_network import MLPClassifier"
   ]
  },
  {
   "cell_type": "code",
   "execution_count": 97,
   "metadata": {},
   "outputs": [
    {
     "name": "stdout",
     "output_type": "stream",
     "text": [
      "\n",
      "Model Name: Neural Nets\n",
      "accuracy: 0.6749482401656315\n",
      "precision: 0.040625\n",
      "recall: 0.65\n",
      "f1: 0.07647058823529412\n",
      "\n"
     ]
    }
   ],
   "source": [
    "# build Neural Nets Classifier model with SMOTE imblearn\n",
    "nn_pipeline = make_pipeline_imb(SMOTE(random_state=4), MLPClassifier())\n",
    "smote_model = nn_pipeline.fit(X_train, y_train)\n",
    "smote_prediction = smote_model.predict(X_test)\n",
    "filename = 'nn_model.pckl'\n",
    "pickle.dump(nn_pipeline,open(filename,'wb'))\n",
    "\n",
    "print()\n",
    "print_results(\"Neural Nets\", y_test, smote_prediction)\n",
    "print()"
   ]
  },
  {
   "cell_type": "markdown",
   "metadata": {},
   "source": [
    "# BernoulliNB"
   ]
  },
  {
   "cell_type": "code",
   "execution_count": 103,
   "metadata": {},
   "outputs": [],
   "source": [
    "from sklearn.naive_bayes import BernoulliNB"
   ]
  },
  {
   "cell_type": "code",
   "execution_count": 104,
   "metadata": {},
   "outputs": [
    {
     "name": "stdout",
     "output_type": "stream",
     "text": [
      "\n",
      "Model Name: BernoulliNB\n",
      "accuracy: 0.855072463768116\n",
      "precision: 0.03125\n",
      "recall: 0.2\n",
      "f1: 0.05405405405405406\n",
      "\n"
     ]
    }
   ],
   "source": [
    "# build SVC model with SMOTE imblearn\n",
    "svc_pipeline = make_pipeline_imb(SMOTE(random_state=4), BernoulliNB())\n",
    "smote_model = svc_pipeline.fit(X_train, y_train)\n",
    "smote_prediction = smote_model.predict(X_test)\n",
    "filename = 'BernoulliNB_model.pckl'\n",
    "pickle.dump(svc_pipeline,open(filename,'wb'))\n",
    "\n",
    "print()\n",
    "print_results(\"BernoulliNB\", y_test, smote_prediction)\n",
    "print()\n"
   ]
  },
  {
   "cell_type": "code",
   "execution_count": 100,
   "metadata": {},
   "outputs": [],
   "source": [
    "info = model_name,accuracy,precision,recall,f1score"
   ]
  },
  {
   "cell_type": "code",
   "execution_count": 105,
   "metadata": {},
   "outputs": [],
   "source": [
    "describe1 = pd.DataFrame(info[0],columns = {\"Model_Name\"})\n",
    "describe2 = pd.DataFrame(info[1], columns ={\"Accuracy_score\"})\n",
    "describe3 = pd.DataFrame(info[2],columns = {\"Precision_score\"})\n",
    "describe4 = pd.DataFrame(info[3],columns = {\"Recall_score\"})\n",
    "describe5 = pd.DataFrame(info[4],columns = {\"F1_score\"})\n",
    "\n",
    "\n",
    "\n",
    "des = describe1.merge(describe2, left_index=True, right_index=True, how='inner')\n",
    "des = des.merge(describe3,left_index=True, right_index=True, how='inner')\n",
    "des = des.merge(describe4,left_index=True, right_index=True, how='inner')\n",
    "des = des.merge(describe5,left_index=True, right_index=True, how='inner')\n",
    "\n",
    "#des = des.merge(describe9,left_index=True, right_index=True, how='inner')\n",
    "final_csv = des.sort_values(ascending=False,by=\"Accuracy_score\").reset_index(drop = True)"
   ]
  },
  {
   "cell_type": "code",
   "execution_count": 106,
   "metadata": {},
   "outputs": [],
   "source": [
    "final_csv.to_csv(str(os.getcwd()) + \"/accuracy_error_metrics.csv\")"
   ]
  },
  {
   "cell_type": "code",
   "execution_count": null,
   "metadata": {},
   "outputs": [],
   "source": []
  }
 ],
 "metadata": {
  "kernelspec": {
   "display_name": "Python 3",
   "language": "python",
   "name": "python3"
  },
  "language_info": {
   "codemirror_mode": {
    "name": "ipython",
    "version": 3
   },
   "file_extension": ".py",
   "mimetype": "text/x-python",
   "name": "python",
   "nbconvert_exporter": "python",
   "pygments_lexer": "ipython3",
   "version": "3.6.3"
  }
 },
 "nbformat": 4,
 "nbformat_minor": 2
}
