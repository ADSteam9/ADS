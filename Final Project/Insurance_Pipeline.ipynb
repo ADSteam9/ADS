{
 "cells": [
  {
   "cell_type": "code",
   "execution_count": 1,
   "metadata": {},
   "outputs": [
    {
     "name": "stderr",
     "output_type": "stream",
     "text": [
      "C:\\Users\\shlok\\anaconda3\\lib\\site-packages\\sklearn\\cross_validation.py:41: DeprecationWarning: This module was deprecated in version 0.18 in favor of the model_selection module into which all the refactored classes and functions are moved. Also note that the interface of the new CV iterators are different from that of this module. This module will be removed in 0.20.\n",
      "  \"This module will be removed in 0.20.\", DeprecationWarning)\n"
     ]
    }
   ],
   "source": [
    "import pandas as pd\n",
    "import numpy as np\n",
    "import matplotlib.pyplot as plt\n",
    "import seaborn as sns\n",
    "import datetime as dt\n",
    "import os\n",
    "from math import sqrt\n",
    "import imblearn\n",
    "from imblearn.pipeline import make_pipeline as make_pipeline_imb\n",
    "from sklearn.metrics import precision_score, recall_score, f1_score, roc_auc_score, accuracy_score, classification_report\n",
    "from sklearn.cross_validation import train_test_split\n",
    "#from sklearn import svm\n",
    "from sklearn.metrics import *\n",
    "import zipfile\n",
    "from zipfile import ZipFile\n",
    "from io import BytesIO\n",
    "import sys\n",
    "import glob\n",
    "import datetime\n",
    "import time\n",
    "import boto.s3\n",
    "from boto.s3.key import Key \n",
    "import pickle"
   ]
  },
  {
   "cell_type": "code",
   "execution_count": 2,
   "metadata": {},
   "outputs": [
    {
     "data": {
      "text/html": [
       "<div>\n",
       "<style scoped>\n",
       "    .dataframe tbody tr th:only-of-type {\n",
       "        vertical-align: middle;\n",
       "    }\n",
       "\n",
       "    .dataframe tbody tr th {\n",
       "        vertical-align: top;\n",
       "    }\n",
       "\n",
       "    .dataframe thead th {\n",
       "        text-align: right;\n",
       "    }\n",
       "</style>\n",
       "<table border=\"1\" class=\"dataframe\">\n",
       "  <thead>\n",
       "    <tr style=\"text-align: right;\">\n",
       "      <th></th>\n",
       "      <th>Unnamed: 0</th>\n",
       "      <th>age</th>\n",
       "      <th>sex</th>\n",
       "      <th>bmi</th>\n",
       "      <th>children</th>\n",
       "      <th>smoker</th>\n",
       "      <th>region</th>\n",
       "      <th>charges</th>\n",
       "    </tr>\n",
       "  </thead>\n",
       "  <tbody>\n",
       "    <tr>\n",
       "      <th>0</th>\n",
       "      <td>0</td>\n",
       "      <td>19</td>\n",
       "      <td>0</td>\n",
       "      <td>27.900</td>\n",
       "      <td>0</td>\n",
       "      <td>1</td>\n",
       "      <td>4</td>\n",
       "      <td>16884.92400</td>\n",
       "    </tr>\n",
       "    <tr>\n",
       "      <th>1</th>\n",
       "      <td>1</td>\n",
       "      <td>18</td>\n",
       "      <td>1</td>\n",
       "      <td>33.770</td>\n",
       "      <td>1</td>\n",
       "      <td>0</td>\n",
       "      <td>3</td>\n",
       "      <td>1725.55230</td>\n",
       "    </tr>\n",
       "    <tr>\n",
       "      <th>2</th>\n",
       "      <td>2</td>\n",
       "      <td>28</td>\n",
       "      <td>1</td>\n",
       "      <td>33.000</td>\n",
       "      <td>3</td>\n",
       "      <td>0</td>\n",
       "      <td>3</td>\n",
       "      <td>4449.46200</td>\n",
       "    </tr>\n",
       "    <tr>\n",
       "      <th>3</th>\n",
       "      <td>3</td>\n",
       "      <td>33</td>\n",
       "      <td>1</td>\n",
       "      <td>22.705</td>\n",
       "      <td>0</td>\n",
       "      <td>0</td>\n",
       "      <td>2</td>\n",
       "      <td>21984.47061</td>\n",
       "    </tr>\n",
       "    <tr>\n",
       "      <th>4</th>\n",
       "      <td>4</td>\n",
       "      <td>32</td>\n",
       "      <td>1</td>\n",
       "      <td>28.880</td>\n",
       "      <td>0</td>\n",
       "      <td>0</td>\n",
       "      <td>2</td>\n",
       "      <td>3866.85520</td>\n",
       "    </tr>\n",
       "  </tbody>\n",
       "</table>\n",
       "</div>"
      ],
      "text/plain": [
       "   Unnamed: 0  age  sex     bmi  children  smoker  region      charges\n",
       "0           0   19    0  27.900         0       1       4  16884.92400\n",
       "1           1   18    1  33.770         1       0       3   1725.55230\n",
       "2           2   28    1  33.000         3       0       3   4449.46200\n",
       "3           3   33    1  22.705         0       0       2  21984.47061\n",
       "4           4   32    1  28.880         0       0       2   3866.85520"
      ]
     },
     "execution_count": 2,
     "metadata": {},
     "output_type": "execute_result"
    }
   ],
   "source": [
    "dataset = pd.read_csv('insurance_revised.csv')\n",
    "dataset.head()"
   ]
  },
  {
   "cell_type": "code",
   "execution_count": 3,
   "metadata": {},
   "outputs": [],
   "source": [
    "X = dataset.drop(['charges'], axis =1)\n",
    "Y = dataset['charges']"
   ]
  },
  {
   "cell_type": "code",
   "execution_count": 4,
   "metadata": {},
   "outputs": [],
   "source": [
    "X_train, X_test, Y_train, Y_test = train_test_split(X, Y, test_size=0.2, random_state=np.random)"
   ]
  },
  {
   "cell_type": "code",
   "execution_count": 5,
   "metadata": {},
   "outputs": [],
   "source": [
    "error_metric = pd.DataFrame({'r2_train': [],\n",
    "                            'r2_test': [],\n",
    "                             'rms_train':[], \n",
    "                            'rms_test': [],\n",
    "                            'mae_train': [],\n",
    "                            'mae_test':[],\n",
    "                            'mape_train':[],\n",
    "                            'mape_test':[]})\n",
    "rmse_dict = {}    "
   ]
  },
  {
   "cell_type": "code",
   "execution_count": 6,
   "metadata": {},
   "outputs": [],
   "source": [
    "def rmse(correct,estimated):\n",
    "    rmse_val = np.sqrt(mean_squared_error(correct,estimated)) \n",
    "    return rmse_val\n",
    "\n",
    "def calc_error_metric(modelname, model, X_train_scale, y_train, X_test_scale, y_test):\n",
    "    global error_metric\n",
    "    y_train_predicted = model.predict(X_train)\n",
    "    y_test_predicted = model.predict(X_test)\n",
    "        \n",
    "    #MAE, RMS, MAPE, R2\n",
    "    \n",
    "    r2_train = r2_score(y_train, y_train_predicted)\n",
    "    r2_test = r2_score(y_test, y_test_predicted)\n",
    "    \n",
    "    rms_train = sqrt(mean_squared_error(y_train, y_train_predicted))\n",
    "    rms_test = sqrt(mean_squared_error(y_test, y_test_predicted))\n",
    "        \n",
    "    mae_train = mean_absolute_error(y_train, y_train_predicted)\n",
    "    mae_test = mean_absolute_error(y_test, y_test_predicted)\n",
    "        \n",
    "    mape_train = np.mean(np.abs((y_train - y_train_predicted) / y_train)) * 100\n",
    "    mape_test = np.mean(np.abs((y_test - y_test_predicted) / y_test)) * 100\n",
    "        \n",
    "    rmse_dict[modelname] = rms_test\n",
    "        \n",
    "    df_local = pd.DataFrame({'Model':[modelname],\n",
    "                            'r2_train': [r2_train],\n",
    "                            'r2_test': [r2_test],\n",
    "                            'rms_train':[rms_train], \n",
    "                            'rms_test': [rms_test],\n",
    "                            'mae_train': [mae_train],\n",
    "                            'mae_test': [mae_test],\n",
    "                            'mape_train':[mape_train],\n",
    "                            'mape_test':[mape_test]})\n",
    "        \n",
    "    error_metric = pd.concat([error_metric, df_local])\n",
    "    return error_metric"
   ]
  },
  {
   "cell_type": "markdown",
   "metadata": {},
   "source": [
    "# Linear Regression"
   ]
  },
  {
   "cell_type": "code",
   "execution_count": 7,
   "metadata": {},
   "outputs": [],
   "source": [
    "from sklearn.linear_model import LinearRegression"
   ]
  },
  {
   "cell_type": "code",
   "execution_count": 8,
   "metadata": {},
   "outputs": [
    {
     "name": "stdout",
     "output_type": "stream",
     "text": [
      "LinearRegression completed!\n"
     ]
    }
   ],
   "source": [
    "linreg = LinearRegression()\n",
    "linreg.fit(X_train,Y_train)\n",
    "filename = 'linreg_model.pckl'\n",
    "pickle.dump(linreg,open(filename,'wb'))\n",
    "calc_error_metric('Linear Regression', linreg, X_train, Y_train, X_test, Y_test)\n",
    "print('LinearRegression completed!')"
   ]
  },
  {
   "cell_type": "markdown",
   "metadata": {},
   "source": [
    "# Random Forest Regression"
   ]
  },
  {
   "cell_type": "code",
   "execution_count": 9,
   "metadata": {},
   "outputs": [],
   "source": [
    "from sklearn.ensemble import RandomForestRegressor"
   ]
  },
  {
   "cell_type": "code",
   "execution_count": 10,
   "metadata": {},
   "outputs": [
    {
     "name": "stdout",
     "output_type": "stream",
     "text": [
      "RandomForestRegression completed!\n"
     ]
    }
   ],
   "source": [
    "rf = RandomForestRegressor(n_estimators = 100, random_state = 42)\n",
    "rf.fit(X_train,Y_train);\n",
    "filename = 'randforest_model.pckl'\n",
    "pickle.dump(rf,open(filename,'wb'))\n",
    "calc_error_metric('Random Forest Regression', rf, X_train, Y_train, X_test, Y_test)\n",
    "print('RandomForestRegression completed!')"
   ]
  },
  {
   "cell_type": "markdown",
   "metadata": {},
   "source": [
    "# GradientBoostingRegressor"
   ]
  },
  {
   "cell_type": "code",
   "execution_count": 11,
   "metadata": {},
   "outputs": [],
   "source": [
    "from sklearn.ensemble import GradientBoostingRegressor  "
   ]
  },
  {
   "cell_type": "code",
   "execution_count": 12,
   "metadata": {},
   "outputs": [
    {
     "name": "stdout",
     "output_type": "stream",
     "text": [
      "GradientBoostingRegression completed!\n"
     ]
    }
   ],
   "source": [
    "gb = GradientBoostingRegressor(n_estimators=300,learning_rate= 0.1,max_features=1.0,random_state=42)\n",
    "gb.fit(X_train,Y_train);\n",
    "filename = 'gradboost_model.pckl'\n",
    "pickle.dump(gb,open(filename,'wb'))\n",
    "calc_error_metric('Gradient Boosting Regression', rf, X_train, Y_train, X_test, Y_test)\n",
    "print('GradientBoostingRegression completed!')"
   ]
  },
  {
   "cell_type": "markdown",
   "metadata": {},
   "source": [
    "# Exporting model metrics csv file"
   ]
  },
  {
   "cell_type": "code",
   "execution_count": 13,
   "metadata": {},
   "outputs": [],
   "source": [
    "error_metric.to_csv('Final_Error_metrics.csv', index = \"False\")"
   ]
  },
  {
   "cell_type": "markdown",
   "metadata": {},
   "source": [
    "# Checking pickled models"
   ]
  },
  {
   "cell_type": "code",
   "execution_count": 14,
   "metadata": {},
   "outputs": [],
   "source": [
    "Linear_reg_model = pickle.load(open('linreg_model.pckl', 'rb'))\n",
    "Random_forest_reg_model = pickle.load(open('randforest_model.pckl', 'rb'))\n",
    "Gradient_boost_reg_model = pickle.load(open('gradboost_model.pckl', 'rb'))"
   ]
  },
  {
   "cell_type": "markdown",
   "metadata": {},
   "source": [
    "# Compressing pickled files"
   ]
  },
  {
   "cell_type": "code",
   "execution_count": 15,
   "metadata": {},
   "outputs": [],
   "source": [
    "def zipping(path, ziph):\n",
    "    ziph.write(os.path.join('linreg_model.pckl'))\n",
    "    ziph.write(os.path.join('randforest_model.pckl'))\n",
    "    ziph.write(os.path.join('gradboost_model.pckl'))"
   ]
  },
  {
   "cell_type": "code",
   "execution_count": 16,
   "metadata": {},
   "outputs": [],
   "source": [
    "zf = zipfile.ZipFile('ModelComp.zip', 'w')\n",
    "zipping('/', zf)\n",
    "zf.close()"
   ]
  },
  {
   "cell_type": "markdown",
   "metadata": {},
   "source": [
    "# Uploading compressed zip to S3 bucket"
   ]
  },
  {
   "cell_type": "code",
   "execution_count": 17,
   "metadata": {},
   "outputs": [
    {
     "name": "stdout",
     "output_type": "stream",
     "text": [
      "Connected to S3\n",
      "ModelComp.zip\n",
      "Created S3 bucket successfully\n",
      "..........File successfully uploaded to S3\n"
     ]
    }
   ],
   "source": [
    "from boto.s3.key import Key\n",
    "\n",
    "accessKey = ''\n",
    "secretAccessKey =''\n",
    "\n",
    "if not accessKey or not secretAccessKey:\n",
    "    print('Access Key and Secret Access Key not provided!!')\n",
    "    exit()\n",
    "\n",
    "AWS_ACCESS_KEY_ID = accessKey\n",
    "AWS_SECRET_ACCESS_KEY = secretAccessKey\n",
    "try:\n",
    "    conn = boto.connect_s3(AWS_ACCESS_KEY_ID,\n",
    "            AWS_SECRET_ACCESS_KEY)\n",
    "\n",
    "    print(\"Connected to S3\")\n",
    "\n",
    "except:\n",
    "    print(\"Amazon keys are invalid!!\")\n",
    "    exit()\n",
    "\n",
    "#ts = time.time()\n",
    "#st = datetime.datetime.fromtimestamp(ts)    \n",
    "bucket_name = 'insuranceprediction'\n",
    "bucket = conn.create_bucket(bucket_name)\n",
    "\n",
    "#ts = time.time()\n",
    "#st = datetime.datetime.fromtimestamp(ts)    \n",
    "# bucket_name2 = 'csv101'\n",
    "# bucket2 = conn.create_bucket(bucket_name2)\n",
    "\n",
    "filename = ('ModelComp.zip')\n",
    "filename_csv = (\"/Final_Error_metrics.csv\")\n",
    "print(filename)\n",
    "print (\"Created S3 bucket successfully\")\n",
    "\n",
    "def percent_cb(complete, total):\n",
    "    sys.stdout.write('.')\n",
    "    sys.stdout.flush()\n",
    "\n",
    "k = Key(bucket)\n",
    "k.key = 'ModelComp'\n",
    "k.set_contents_from_filename(filename,cb=percent_cb, num_cb=10)\n",
    "\n",
    "print(\"File successfully uploaded to S3\")\n"
   ]
  },
  {
   "cell_type": "code",
   "execution_count": null,
   "metadata": {},
   "outputs": [],
   "source": []
  }
 ],
 "metadata": {
  "kernelspec": {
   "display_name": "Python 3",
   "language": "python",
   "name": "python3"
  },
  "language_info": {
   "codemirror_mode": {
    "name": "ipython",
    "version": 3
   },
   "file_extension": ".py",
   "mimetype": "text/x-python",
   "name": "python",
   "nbconvert_exporter": "python",
   "pygments_lexer": "ipython3",
   "version": "3.6.4"
  }
 },
 "nbformat": 4,
 "nbformat_minor": 2
}
